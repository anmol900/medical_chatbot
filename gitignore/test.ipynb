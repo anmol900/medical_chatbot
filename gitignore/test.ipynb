{
 "cells": [
  {
   "cell_type": "code",
   "execution_count": 23,
   "metadata": {},
   "outputs": [],
   "source": [
    "#LLM"
   ]
  },
  {
   "cell_type": "code",
   "execution_count": 1,
   "metadata": {},
   "outputs": [
    {
     "name": "stdout",
     "output_type": "stream",
     "text": [
      "Requirement already satisfied: sentence-transformers in c:\\users\\admin\\desktop\\navikenz\\rag\\myenv\\lib\\site-packages (3.0.1)\n",
      "Requirement already satisfied: transformers<5.0.0,>=4.34.0 in c:\\users\\admin\\desktop\\navikenz\\rag\\myenv\\lib\\site-packages (from sentence-transformers) (4.41.2)\n",
      "Requirement already satisfied: tqdm in c:\\users\\admin\\desktop\\navikenz\\rag\\myenv\\lib\\site-packages (from sentence-transformers) (4.66.4)\n",
      "Requirement already satisfied: torch>=1.11.0 in c:\\users\\admin\\desktop\\navikenz\\rag\\myenv\\lib\\site-packages (from sentence-transformers) (2.3.1)\n",
      "Requirement already satisfied: numpy in c:\\users\\admin\\desktop\\navikenz\\rag\\myenv\\lib\\site-packages (from sentence-transformers) (1.26.4)\n",
      "Requirement already satisfied: scikit-learn in c:\\users\\admin\\desktop\\navikenz\\rag\\myenv\\lib\\site-packages (from sentence-transformers) (1.5.0)\n",
      "Requirement already satisfied: scipy in c:\\users\\admin\\desktop\\navikenz\\rag\\myenv\\lib\\site-packages (from sentence-transformers) (1.13.1)\n",
      "Requirement already satisfied: huggingface-hub>=0.15.1 in c:\\users\\admin\\desktop\\navikenz\\rag\\myenv\\lib\\site-packages (from sentence-transformers) (0.23.3)\n",
      "Requirement already satisfied: Pillow in c:\\users\\admin\\desktop\\navikenz\\rag\\myenv\\lib\\site-packages (from sentence-transformers) (10.3.0)\n",
      "Requirement already satisfied: filelock in c:\\users\\admin\\desktop\\navikenz\\rag\\myenv\\lib\\site-packages (from huggingface-hub>=0.15.1->sentence-transformers) (3.15.1)\n",
      "Requirement already satisfied: fsspec>=2023.5.0 in c:\\users\\admin\\desktop\\navikenz\\rag\\myenv\\lib\\site-packages (from huggingface-hub>=0.15.1->sentence-transformers) (2024.6.0)\n",
      "Requirement already satisfied: packaging>=20.9 in c:\\users\\admin\\desktop\\navikenz\\rag\\myenv\\lib\\site-packages (from huggingface-hub>=0.15.1->sentence-transformers) (24.1)\n",
      "Requirement already satisfied: pyyaml>=5.1 in c:\\users\\admin\\desktop\\navikenz\\rag\\myenv\\lib\\site-packages (from huggingface-hub>=0.15.1->sentence-transformers) (6.0.1)\n",
      "Requirement already satisfied: requests in c:\\users\\admin\\desktop\\navikenz\\rag\\myenv\\lib\\site-packages (from huggingface-hub>=0.15.1->sentence-transformers) (2.32.3)\n",
      "Requirement already satisfied: typing-extensions>=3.7.4.3 in c:\\users\\admin\\desktop\\navikenz\\rag\\myenv\\lib\\site-packages (from huggingface-hub>=0.15.1->sentence-transformers) (4.12.2)\n",
      "Requirement already satisfied: sympy in c:\\users\\admin\\desktop\\navikenz\\rag\\myenv\\lib\\site-packages (from torch>=1.11.0->sentence-transformers) (1.12.1)\n",
      "Requirement already satisfied: networkx in c:\\users\\admin\\desktop\\navikenz\\rag\\myenv\\lib\\site-packages (from torch>=1.11.0->sentence-transformers) (3.2.1)\n",
      "Requirement already satisfied: jinja2 in c:\\users\\admin\\desktop\\navikenz\\rag\\myenv\\lib\\site-packages (from torch>=1.11.0->sentence-transformers) (3.1.4)\n",
      "Requirement already satisfied: mkl<=2021.4.0,>=2021.1.1 in c:\\users\\admin\\desktop\\navikenz\\rag\\myenv\\lib\\site-packages (from torch>=1.11.0->sentence-transformers) (2021.4.0)\n",
      "Requirement already satisfied: colorama in c:\\users\\admin\\desktop\\navikenz\\rag\\myenv\\lib\\site-packages (from tqdm->sentence-transformers) (0.4.6)\n",
      "Requirement already satisfied: regex!=2019.12.17 in c:\\users\\admin\\desktop\\navikenz\\rag\\myenv\\lib\\site-packages (from transformers<5.0.0,>=4.34.0->sentence-transformers) (2024.5.15)\n",
      "Requirement already satisfied: tokenizers<0.20,>=0.19 in c:\\users\\admin\\desktop\\navikenz\\rag\\myenv\\lib\\site-packages (from transformers<5.0.0,>=4.34.0->sentence-transformers) (0.19.1)\n",
      "Requirement already satisfied: safetensors>=0.4.1 in c:\\users\\admin\\desktop\\navikenz\\rag\\myenv\\lib\\site-packages (from transformers<5.0.0,>=4.34.0->sentence-transformers) (0.4.3)\n",
      "Requirement already satisfied: joblib>=1.2.0 in c:\\users\\admin\\desktop\\navikenz\\rag\\myenv\\lib\\site-packages (from scikit-learn->sentence-transformers) (1.4.2)\n",
      "Requirement already satisfied: threadpoolctl>=3.1.0 in c:\\users\\admin\\desktop\\navikenz\\rag\\myenv\\lib\\site-packages (from scikit-learn->sentence-transformers) (3.5.0)\n",
      "Requirement already satisfied: intel-openmp==2021.* in c:\\users\\admin\\desktop\\navikenz\\rag\\myenv\\lib\\site-packages (from mkl<=2021.4.0,>=2021.1.1->torch>=1.11.0->sentence-transformers) (2021.4.0)\n",
      "Requirement already satisfied: tbb==2021.* in c:\\users\\admin\\desktop\\navikenz\\rag\\myenv\\lib\\site-packages (from mkl<=2021.4.0,>=2021.1.1->torch>=1.11.0->sentence-transformers) (2021.12.0)\n",
      "Requirement already satisfied: MarkupSafe>=2.0 in c:\\users\\admin\\desktop\\navikenz\\rag\\myenv\\lib\\site-packages (from jinja2->torch>=1.11.0->sentence-transformers) (2.1.5)\n",
      "Requirement already satisfied: charset-normalizer<4,>=2 in c:\\users\\admin\\desktop\\navikenz\\rag\\myenv\\lib\\site-packages (from requests->huggingface-hub>=0.15.1->sentence-transformers) (3.3.2)\n",
      "Requirement already satisfied: idna<4,>=2.5 in c:\\users\\admin\\desktop\\navikenz\\rag\\myenv\\lib\\site-packages (from requests->huggingface-hub>=0.15.1->sentence-transformers) (3.7)\n",
      "Requirement already satisfied: urllib3<3,>=1.21.1 in c:\\users\\admin\\desktop\\navikenz\\rag\\myenv\\lib\\site-packages (from requests->huggingface-hub>=0.15.1->sentence-transformers) (2.2.1)\n",
      "Requirement already satisfied: certifi>=2017.4.17 in c:\\users\\admin\\desktop\\navikenz\\rag\\myenv\\lib\\site-packages (from requests->huggingface-hub>=0.15.1->sentence-transformers) (2024.6.2)\n",
      "Requirement already satisfied: mpmath<1.4.0,>=1.1.0 in c:\\users\\admin\\desktop\\navikenz\\rag\\myenv\\lib\\site-packages (from sympy->torch>=1.11.0->sentence-transformers) (1.3.0)\n",
      "Note: you may need to restart the kernel to use updated packages.\n"
     ]
    },
    {
     "name": "stderr",
     "output_type": "stream",
     "text": [
      "\n",
      "[notice] A new release of pip is available: 24.0 -> 24.1.2\n",
      "[notice] To update, run: python.exe -m pip install --upgrade pip\n"
     ]
    }
   ],
   "source": [
    "pip install sentence-transformers"
   ]
  },
  {
   "cell_type": "code",
   "execution_count": 3,
   "metadata": {},
   "outputs": [
    {
     "name": "stderr",
     "output_type": "stream",
     "text": [
      "Ignoring wrong pointing object 6 0 (offset 0)\n",
      "Ignoring wrong pointing object 8 0 (offset 0)\n",
      "Ignoring wrong pointing object 10 0 (offset 0)\n"
     ]
    },
    {
     "name": "stdout",
     "output_type": "stream",
     "text": [
      "Common health tests by gender and ageGenderAge RangeTestsMen18-39BLOOD PRESSURE SCREENINGCHOLESTEROL SCREENINGDIABETES SCREENINGSKIN SELF-EXAM\n",
      "Men40-64BLOOD PRESSURE SCREENINGCHOLESTEROL SCREENINGCOLORECTAL CANCER SCREENINGDIABETES SCREENINGLUNG CANCER SCREENINGOSTEOPOROSIS SCREENINGPROSTATE CANCER SCREENINGSKIN EXAMTESTICULAR EXAM\n",
      "Men65 and olderABDOMINAL AORTIC ANEURYSM SCREENINGBLOOD PRESSURE SCREENINGCHOLESTEROL SCREENINGCOLORECTAL CANCER SCREENINGDIABETES SCREENINGHEARING TESTLUNG CANCER SCREENINGOSTEOPOROSIS SCREENINGPROSTATE CANCER SCREENINGFor men 70 or older, most recommendations are against screening.Women18-39BLOOD PRESSURE SCREENINGBREAST CANCER SCREENINGCERVICAL CANCER SCREENINGCHOLESTEROL SCREENINGDIABETES SCREENING\n",
      "Women40-64Blood PressureBreast CancerCervical CancerCholestrolCOLORECTAL CANCER SCREENINGDIABETES SCREENINGLUNG CANCER SCREENINGOSTEOPOROSIS SCREENINGSKIN EXAM\n"
     ]
    }
   ],
   "source": [
    "from pypdf import PdfReader\n",
    "\n",
    "reader = PdfReader(\"combined.pdf\")\n",
    "pdf_texts = [p.extract_text().strip() for p in reader.pages]\n",
    " \n",
    "# Filter the empty strings\n",
    "pdf_texts = [text for text in pdf_texts if text]\n",
    "\n",
    "print(pdf_texts[0])"
   ]
  },
  {
   "cell_type": "code",
   "execution_count": 10,
   "metadata": {},
   "outputs": [
    {
     "data": {
      "text/plain": [
       "['Common health tests by gender and ageGenderAge RangeTestsMen18-39BLOOD PRESSURE SCREENINGCHOLESTEROL SCREENINGDIABETES SCREENINGSKIN SELF-EXAM\\nMen40-64BLOOD PRESSURE SCREENINGCHOLESTEROL SCREENINGCOLORECTAL CANCER SCREENINGDIABETES SCREENINGLUNG CANCER SCREENINGOSTEOPOROSIS SCREENINGPROSTATE CANCER SCREENINGSKIN EXAMTESTICULAR EXAM\\nMen65 and olderABDOMINAL AORTIC ANEURYSM SCREENINGBLOOD PRESSURE SCREENINGCHOLESTEROL SCREENINGCOLORECTAL CANCER SCREENINGDIABETES SCREENINGHEARING TESTLUNG CANCER SCREENINGOSTEOPOROSIS SCREENINGPROSTATE CANCER SCREENINGFor men 70 or older, most recommendations are against screening.Women18-39BLOOD PRESSURE SCREENINGBREAST CANCER SCREENINGCERVICAL CANCER SCREENINGCHOLESTEROL SCREENINGDIABETES SCREENING\\nWomen40-64Blood PressureBreast CancerCervical CancerCholestrolCOLORECTAL CANCER SCREENINGDIABETES SCREENINGLUNG CANCER SCREENINGOSTEOPOROSIS SCREENINGSKIN EXAM',\n",
       " 'Women65 and olderBlood PressureBreast CancerCervical CancerCholestrolCOLORECTAL CANCER SCREENINGYou may need a colonoscopy more often if you have risk factors for colon cancer, including:Ulcerative colitisA personal or family history of colorectal cancerA history of growths in your colon called adenomatous polypsDIABETES SCREENINGLUNG CANCER SCREENINGOSTEOPOROSIS SCREENINGSKIN EXAMHearing TestCommon conditions, symptoms and corresponding testsConditionSymptomsTests\\nPre-diabetesDarkened SkinIncreased thirstFrequent urinationIncreased hungerFatigueBlurred visionNumbness or tingling in the feet or handsFrequent infectionsSlow-healing soresUnintended weight lossDiabetes Panel',\n",
       " 'HyperthyroidismAnxietyDifficulty concentratingFatigueFrequent bowel movementsGoiter (visibly enlarged thyroid gland) or thyroid nodulesHair lossHand tremorHeat intoleranceIncreased appetiteIncreased sweatingIrregular menstrual periods in womenNail changes (thickness or flaking)NervousnessPounding or racing heart beat (palpitations)RestlessnessSleep problemsWeight loss (or weight gain, in some cases)Other symptoms that can occur with this condition:Blood PressureThyroid Panel - T3, T4, TSHCholestrol LevelGlucoseSpecialized thyroid tests like Thyroid receptor antibody (TRAb) or Thyroid Stimulating Immunoglobulin (TSI)Radiology:UltrasoundThyroid ScanRadioactive Iodine uptake test\\nHypothyroidismTiredness.More sensitivity to cold.Constipation.Dry skin.Weight gain.Puffy face.Hoarse voice.Coarse hair and skin.Muscle weakness.Muscle aches, tenderness and stiffness.Menstrual cycles that are heavier than usual or irregular.Thinning hair.Slowed heart rate, also called bradycardia.Depression.Memory problems.Blood PressureThyroid Panel - T3, T4, TSHCholestrol LevelGlucoseSpecialized thyroid tests like Thyroid receptor antibody (TRAb) or Thyroid Stimulating Immunoglobulin (TSI)Radiology:UltrasoundThyroid ScanRadioactive Iodine uptake test',\n",
       " 'Heart DiseasesChest pain, chest tightness, chest pressure and chest discomfort (angina)Shortness of breathPain in the neck, jaw, throat, upper belly area or backPain, numbness, weakness or coldness in the legs or arms if the blood vessels in those body areas are narrowedChest pain or discomfortDizzinessFainting (syncope) or near faintingFluttering in the chestLightheadednessRacing heartbeat (tachycardia)Shortness of breathSlow heartbeat (bradycardia)Easily getting short of breath during exercise or activityEasily tiring during exercise or activitySwelling of the hands, ankles Cholestrol tests: Total cholestrol, LDL, HDL, Tryglycerides, non HDL cholestrol.Hs-CRPLp(a)Plasma CeramidesBNPTroponin TElectrocardiogramEchocardiogramTMTOsteoporosisBack pain, caused by a broken or collapsed bone in the spine.Loss of height over time.A stooped posture.A bone that breaks much more easily than expected.Bone densityBALPBone PanelPCOSHormone Test fasting cholesterol and triglyceride levels. glucose tolerance test Ultrasound']"
      ]
     },
     "execution_count": 10,
     "metadata": {},
     "output_type": "execute_result"
    }
   ],
   "source": [
    "pdf_texts"
   ]
  },
  {
   "cell_type": "code",
   "execution_count": 11,
   "metadata": {},
   "outputs": [],
   "source": [
    "from langchain.text_splitter import RecursiveCharacterTextSplitter, SentenceTransformersTokenTextSplitter\n"
   ]
  },
  {
   "cell_type": "code",
   "execution_count": 12,
   "metadata": {},
   "outputs": [
    {
     "name": "stdout",
     "output_type": "stream",
     "text": [
      "\n",
      "Total chunks: 15\n"
     ]
    }
   ],
   "source": [
    "character_splitter = RecursiveCharacterTextSplitter(\n",
    "    separators=[\"\\n\\n\", \"\\n\", \". \", \" \", \"\"],\n",
    "    chunk_size=400,\n",
    "    chunk_overlap=0\n",
    ")\n",
    "character_split_texts = character_splitter.split_text('\\n\\n'.join(pdf_texts))\n",
    "\n",
    "print(f\"\\nTotal chunks: {len(character_split_texts)}\")"
   ]
  },
  {
   "cell_type": "code",
   "execution_count": 15,
   "metadata": {},
   "outputs": [
    {
     "data": {
      "text/plain": [
       "str"
      ]
     },
     "execution_count": 15,
     "metadata": {},
     "output_type": "execute_result"
    }
   ],
   "source": [
    "type(character_split_texts[0])"
   ]
  },
  {
   "cell_type": "code",
   "execution_count": 9,
   "metadata": {},
   "outputs": [
    {
     "name": "stderr",
     "output_type": "stream",
     "text": [
      "c:\\Users\\admin\\Desktop\\navikenz\\rag\\myenv\\lib\\site-packages\\sentence_transformers\\cross_encoder\\CrossEncoder.py:11: TqdmWarning: IProgress not found. Please update jupyter and ipywidgets. See https://ipywidgets.readthedocs.io/en/stable/user_install.html\n",
      "  from tqdm.autonotebook import tqdm, trange\n",
      "c:\\Users\\admin\\Desktop\\navikenz\\rag\\myenv\\lib\\site-packages\\huggingface_hub\\file_download.py:1135: FutureWarning: `resume_download` is deprecated and will be removed in version 1.0.0. Downloads always resume when possible. If you want to force a new download, use `force_download=True`.\n",
      "  warnings.warn(\n"
     ]
    },
    {
     "name": "stdout",
     "output_type": "stream",
     "text": [
      "\n",
      "Total chunks: 15\n"
     ]
    }
   ],
   "source": [
    "token_splitter = SentenceTransformersTokenTextSplitter(chunk_overlap=0, tokens_per_chunk=256)\n",
    "\n",
    "token_split_texts = []\n",
    "for text in character_split_texts:\n",
    "    token_split_texts += token_splitter.split_text(text)\n",
    "\n",
    "print(f\"\\nTotal chunks: {len(token_split_texts)}\")"
   ]
  },
  {
   "cell_type": "code",
   "execution_count": 7,
   "metadata": {},
   "outputs": [
    {
     "name": "stdout",
     "output_type": "stream",
     "text": [
      "levelglucosespecialized thyroid tests like thyroid receptor antibody ( trab ) or thyroid stimulating immunoglobulin ( tsi ) radiology : ultrasoundthyroid scanradioactive iodine uptake test\n"
     ]
    }
   ],
   "source": [
    "print(token_split_texts[10])"
   ]
  },
  {
   "cell_type": "code",
   "execution_count": 8,
   "metadata": {},
   "outputs": [
    {
     "name": "stdout",
     "output_type": "stream",
     "text": [
      "[[0.025213811546564102, -0.036502037197351456, -0.007709131576120853, -0.02681208960711956, 0.0034980291966348886, -0.039768870919942856, 0.08375898748636246, 0.025101959705352783, -0.05233593285083771, -0.01619298942387104, -0.008034572936594486, -0.07158831506967545, 0.010107059963047504, 0.09474480897188187, -0.041657671332359314, -0.09227564930915833, 0.00759788416326046, -0.03248719125986099, 0.022646356374025345, -0.07976178079843521, -0.09007631987333298, 0.015864897519350052, 0.015255708247423172, -0.006999630481004715, 0.00773459579795599, -0.06359231472015381, -0.006879271473735571, -0.06388843804597855, -0.01772714965045452, 0.04101147502660751, -0.02807280607521534, 0.011831266805529594, -0.021981487050652504, -0.0012770319590345025, 0.10894828289747238, 0.016105692833662033, 0.014710295014083385, 0.01396133005619049, -0.025484316051006317, -0.0033905054442584515, 0.008566752076148987, -0.17928573489189148, -0.026755210012197495, -0.037926264107227325, -0.048025112599134445, -0.014496853575110435, -0.05468421056866646, -0.026793600991368294, -0.0666341558098793, 0.11297000199556351, 0.016979528591036797, -0.08951175957918167, -0.006340532563626766, 0.09180213510990143, -0.054136790335178375, -0.036138616502285004, -0.028464702889323235, 0.0009077026043087244, -0.031087789684534073, 0.061338771134614944, -0.0716429278254509, -0.027042701840400696, 0.030467767268419266, -0.028746144846081734, 0.12342064082622528, 0.11407941579818726, 0.02481958642601967, -0.039990343153476715, 0.017745092511177063, -0.012923479080200195, 0.03934398666024208, -0.028686068952083588, -0.03087824210524559, 0.030411824584007263, -0.0042696441523730755, -0.05270533263683319, -0.020046040415763855, -0.017203431576490402, 0.05302807316184044, 0.03596021980047226, -0.08950304985046387, 0.026508724316954613, -0.020503034815192223, -0.0653006061911583, 0.008882958441972733, 0.041659433394670486, -0.023406194522976875, 0.02122187428176403, -0.07015061378479004, 0.005976220592856407, 0.08437926322221756, 0.017799686640501022, -0.09821482747793198, -0.019292715936899185, 0.10087987035512924, 0.03455670550465584, -0.04507952183485031, -0.05757417157292366, 0.09529054909944534, -0.0006709129083901644, -0.0184334684163332, -0.09702305495738983, -0.06759737432003021, 0.06891198456287384, -0.01847323216497898, -0.019261591136455536, 0.03645101934671402, -0.16434429585933685, -0.05683081969618797, -0.00190124218352139, -0.028510702773928642, 0.04003800079226494, 0.08107785880565643, 0.05510728806257248, 0.008009595796465874, 0.03728195279836655, -0.013751059770584106, 0.05795593932271004, 0.030596034601330757, 0.05695376917719841, 0.03724072873592377, -0.06651337444782257, 0.025238174945116043, 0.04720457270741463, 0.08163665980100632, 0.03806799277663231, -0.011102922260761261, 8.75981990184218e-33, 0.04116937890648842, 0.06434924155473709, 0.04916150122880936, 0.01735449582338333, -0.019052503630518913, 0.04761330410838127, -0.021731480956077576, -0.035798411816358566, -0.001391877536661923, 0.05484285205602646, 0.005022023804485798, 0.12152513116598129, -0.04663744196295738, 0.02735527604818344, 0.016721593216061592, 0.028360985219478607, -0.008164667524397373, 0.06723258644342422, -0.026668353006243706, -0.035714488476514816, 0.0428890734910965, 0.0005457867518998682, 0.018688557669520378, 0.056564077734947205, 0.012414137832820415, 0.04557036608457565, -0.06988305598497391, 0.00020766137458849698, -0.025072263553738594, 0.007907651364803314, -0.04041328653693199, -0.0742507129907608, -0.02190660871565342, 0.006140562705695629, -0.036972854286432266, -0.02292330004274845, -0.05720704048871994, 0.04247129335999489, -0.015626147389411926, 0.03579951822757721, 0.057568080723285675, -0.03708731755614281, -0.0395137257874012, 0.062314242124557495, 0.01692885160446167, 0.02728385664522648, -0.02834228239953518, -0.0890621691942215, -0.018701329827308655, -0.03097245655953884, -0.057845622301101685, -0.0392669178545475, -0.093321792781353, -0.12882229685783386, 0.019757812842726707, 0.029845217242836952, 0.009613987989723682, -0.022166678681969643, -0.0033867047168314457, 0.08792642503976822, 0.014400096610188484, 0.002175929956138134, 0.04525567963719368, -0.02101977728307247, -0.05281141772866249, -0.08022880554199219, -0.13635064661502838, -0.08333349972963333, -0.03399348631501198, 0.021438371390104294, -0.042850568890571594, -0.013973023742437363, 0.0692896768450737, 0.05982744321227074, 0.03935025632381439, 0.02110198698937893, -0.0311094019562006, 0.03641853854060173, -0.026966219767928123, -0.1125306710600853, 0.04067040979862213, -0.04854350909590721, 0.05664739012718201, 0.02409990131855011, 0.028098246082663536, -0.08212608844041824, -0.08051149547100067, -0.05602758750319481, -0.04737519845366478, -0.02709948644042015, -0.008130925707519054, 0.08282370865345001, -0.0785328671336174, -0.059768062084913254, -0.00056557881180197, -9.077423781754977e-33, 0.05010457709431648, 0.041676487773656845, -0.03810981661081314, 0.036583203822374344, -0.03193861246109009, -0.039348140358924866, 0.06411786377429962, -0.018680093809962273, 0.18888069689273834, 0.0828901007771492, 0.059192340821027756, 0.02453470230102539, -0.09290427714586258, -0.015126090496778488, -0.0672718957066536, 0.006541107781231403, 0.005478772334754467, -0.011600195430219173, 0.019709710031747818, 0.006088897120207548, -0.0676659643650055, 0.021191848441958427, 0.060858793556690216, -0.024293921887874603, 0.007792716845870018, 0.02191927097737789, -0.020693674683570862, 0.027780422940850258, 0.037317708134651184, 0.002365982858464122, -0.06536876410245895, -0.022125128656625748, 0.08156730979681015, 0.019650353118777275, 0.08710560202598572, -0.020943403244018555, 0.03700369969010353, -0.05873654782772064, 0.007642135489732027, 0.02417193166911602, 0.039778873324394226, -0.000381232937797904, 0.057750895619392395, -0.029389619827270508, -0.05553442984819412, 0.0026028412394225597, -0.038787536323070526, 0.06182568892836571, -0.006220277398824692, -0.04713282361626625, 0.06737019866704941, -0.006981018465012312, 0.06576677411794662, 0.03969496116042137, -0.009122922085225582, 0.06737125664949417, -0.08430242538452148, 0.002009233459830284, -0.03878866881132126, 0.015963543206453323, 0.07704281061887741, -0.012704265303909779, -0.029310721904039383, 0.0454074926674366, -0.03882613778114319, 0.008620485663414001, 0.04632466286420822, -0.03154359385371208, -0.017761265859007835, 0.1427873969078064, -0.025494111701846123, -0.05432552471756935, 0.013265613466501236, 0.011692821979522705, 0.016981586813926697, -0.014663993380963802, -0.03323856741189957, 0.01873626932501793, 0.08916286379098892, -0.10608208179473877, -0.05806739628314972, -0.04094388335943222, -0.0677950531244278, 0.0071876440197229385, 0.048330649733543396, 0.05505980923771858, -0.012293622829020023, 0.009440677240490913, 0.07828835397958755, -0.015223744325339794, 0.010373990051448345, -0.022334158420562744, -0.0821341872215271, -0.012549573555588722, 0.006468833424150944, -3.5655606467344114e-08, 0.02942899614572525, -0.11191088706254959, -0.008393337950110435, -0.007815979421138763, 0.007015397306531668, -0.003502719569951296, 0.03517202287912369, -0.03814949840307236, 0.029522838070988655, 0.007403567433357239, -0.07377006858587265, 0.015274127945303917, 0.010060415603220463, -0.06921631097793579, 0.0558725968003273, -0.045086558908224106, 0.0070716505870223045, 0.05838896706700325, -0.008425235748291016, -0.02970500849187374, -0.07499557733535767, 0.05789094418287277, 0.017629778012633324, -0.014153929427266121, 0.004182207863777876, 0.09365782141685486, 0.07689336687326431, 0.0946098044514656, 0.021886423230171204, 0.022811468690633774, 0.05958356708288193, 0.007277592085301876, 0.00487076910212636, -0.03875133767724037, 0.011760628782212734, 0.08665771782398224, -0.05418078228831291, 0.040943801403045654, -0.01757734827697277, 0.048501476645469666, -0.08585415035486221, 0.06136299669742584, 0.013479940593242645, -0.012598463334143162, -0.01939866505563259, -0.003169501665979624, -0.018283264711499214, 0.00856364518404007, 0.0552724152803421, -0.0767824649810791, 0.0019063595682382584, -0.015101064927875996, -0.02509482204914093, 0.008459060452878475, -0.09189608693122864, 0.08527275919914246, 0.0663914680480957, -0.05311721935868263, -0.0642448291182518, -0.024181710556149483, 0.03426627069711685, 0.011471090838313103, 0.04412044212222099, -0.025612356141209602]]\n"
     ]
    }
   ],
   "source": [
    "import chromadb\n",
    "from chromadb.utils.embedding_functions import SentenceTransformerEmbeddingFunction\n",
    "\n",
    "embedding_function = SentenceTransformerEmbeddingFunction()\n",
    "print(embedding_function([token_split_texts[10]]))"
   ]
  },
  {
   "cell_type": "code",
   "execution_count": 9,
   "metadata": {},
   "outputs": [
    {
     "data": {
      "text/plain": [
       "15"
      ]
     },
     "execution_count": 9,
     "metadata": {},
     "output_type": "execute_result"
    }
   ],
   "source": [
    "chroma_client = chromadb.Client()\n",
    "chroma_collection = chroma_client.create_collection(\"combined\", embedding_function=embedding_function)\n",
    "\n",
    "ids = [str(i) for i in range(len(token_split_texts))]\n",
    "\n",
    "chroma_collection.add(ids=ids, documents=token_split_texts)\n",
    "chroma_collection.count()"
   ]
  },
  {
   "cell_type": "code",
   "execution_count": 10,
   "metadata": {},
   "outputs": [
    {
     "name": "stdout",
     "output_type": "stream",
     "text": [
      "heart diseaseschest pain, chest tightness, chest pressure and chest discomfort ( angina ) shortness of breathpain in the neck, jaw, throat, upper belly area or backpain, numbness, weakness or coldness in the legs or arms if the blood vessels in those body areas are narrowedchest pain or discomfortdizzinessfainting ( syncope ) or near faintingfluttering in the chestlightheadednessracing heartbeat\n",
      "\n",
      "\n",
      "( tachycardia ) shortness of breathslow heartbeat ( bradycardia ) easily getting short of breath during exercise or activityeasily tiring during exercise or activityswelling of the hands, ankles cholestrol tests : total cholestrol, ldl, hdl, tryglycerides, non hdl cholestrol. hs - crplp ( a ) plasma ceramidesbnptroponin telectrocardiogramechocardiogramtmtosteoporosisback pain, caused by a broken or collapsed\n",
      "\n",
      "\n",
      "hyperthyroidismanxietydifficulty concentratingfatiguefrequent bowel movementsgoiter ( visibly enlarged thyroid gland ) or thyroid noduleshair losshand tremorheat intoleranceincreased appetiteincreased sweatingirregular menstrual periods in womennail changes ( thickness or flaking ) nervousnesspounding or racing heart beat ( palpitations ) restlessnesssleep problemsweight loss ( or weight gain, in some\n",
      "\n",
      "\n",
      "hypothyroidismtiredness. more sensitivity to cold. constipation. dry skin. weight gain. puffy face. hoarse voice. coarse hair and skin. muscle weakness. muscle aches, tenderness and stiffness. menstrual cycles that are heavier than usual or irregular. thinning hair. slowed heart rate, also called bradycardia. depression. memory problems. blood pressurethyroid panel - t3, t4, tshcholestrol\n",
      "\n",
      "\n",
      "bone in the spine. loss of height over time. a stooped posture. a bone that breaks much more easily than expected. bone densitybalpbone panelpcoshormone test fasting cholesterol and triglyceride levels\n",
      "\n",
      "\n"
     ]
    }
   ],
   "source": [
    "query = 'A 69 year old female with difficulty in breathing'\n",
    "\n",
    "results = chroma_collection.query(query_texts=[query], n_results=5)\n",
    "retrieved_documents = results['documents'][0]\n",
    "\n",
    "for document in retrieved_documents:\n",
    "    print(document)\n",
    "    print('\\n')"
   ]
  },
  {
   "cell_type": "code",
   "execution_count": 11,
   "metadata": {},
   "outputs": [],
   "source": [
    "import os\n",
    "\n",
    "# from decouple import config\n",
    "from openai import AzureOpenAI\n",
    "from openai import OpenAI\n",
    "from dotenv import load_dotenv\n",
    "client = AzureOpenAI(\n",
    "    api_key='32d0ee2f0fa74a60be53d08408584273',\n",
    "    api_version=\"2023-10-01-preview\",\n",
    "    azure_endpoint='https://digitalsolutionnrish.openai.azure.com/',\n",
    ")\n",
    "# response = client.chat.completions.create(\n",
    "#     model=\"gpt-4-32k\",  # model = \"deployment_name\".\n",
    "#     messages=[\n",
    "#         {\"role\": \"system\", \"content\": \"You are a python instructor.\"},\n",
    "#         {\"role\": \"user\", \"content\": \"print a statement like hello world in python\"},\n",
    "#     ],\n",
    "# )\n",
    "\n",
    "# print(response.choices[0].message.content)"
   ]
  },
  {
   "cell_type": "code",
   "execution_count": 12,
   "metadata": {},
   "outputs": [],
   "source": [
    "#Agent\n"
   ]
  },
  {
   "cell_type": "code",
   "execution_count": 13,
   "metadata": {},
   "outputs": [],
   "source": [
    "from langgraph.graph import StateGraph, END\n",
    "from typing import TypedDict, Annotated\n",
    "import operator\n",
    "from langchain_core.messages import AnyMessage, SystemMessage, HumanMessage, ToolMessage\n",
    "from langchain_openai import ChatOpenAI\n",
    "from langchain_community.tools.tavily_search import TavilySearchResults"
   ]
  },
  {
   "cell_type": "code",
   "execution_count": null,
   "metadata": {},
   "outputs": [],
   "source": []
  },
  {
   "cell_type": "code",
   "execution_count": 14,
   "metadata": {},
   "outputs": [],
   "source": [
    "# Import things that are needed generically\n",
    "from langchain.pydantic_v1 import BaseModel, Field\n",
    "from langchain.tools import BaseTool, StructuredTool, tool"
   ]
  },
  {
   "cell_type": "code",
   "execution_count": 15,
   "metadata": {},
   "outputs": [],
   "source": [
    "from langgraph.graph import StateGraph, END\n",
    "from typing import TypedDict, Annotated\n",
    "import operator\n",
    "from langchain_core.messages import AnyMessage, SystemMessage, HumanMessage, ToolMessage\n",
    "from langchain_openai import ChatOpenAI\n",
    "from langchain_community.tools.tavily_search import TavilySearchResults\n",
    "from langgraph.checkpoint.sqlite import SqliteSaver\n",
    "\n",
    "memory = SqliteSaver.from_conn_string(\":memory:\")"
   ]
  },
  {
   "cell_type": "code",
   "execution_count": null,
   "metadata": {},
   "outputs": [],
   "source": []
  },
  {
   "cell_type": "code",
   "execution_count": 16,
   "metadata": {},
   "outputs": [],
   "source": [
    "from langgraph.checkpoint.sqlite import SqliteSaver\n",
    "\n",
    "memory = SqliteSaver.from_conn_string(\":memory:\")"
   ]
  },
  {
   "cell_type": "code",
   "execution_count": 17,
   "metadata": {},
   "outputs": [],
   "source": [
    "patient_prompt = \"\"\"You are a helpful medical assistant. For a patient having patient description as {patient_descriptiom} and provided list of medical tests {medical_tests}. Your task is to generate a single useful question asked to the patient so that you can do diagnosis and suggest the patient some medical tests.You will be provided more info later\n",
    "\n",
    "\"\"\""
   ]
  },
  {
   "cell_type": "code",
   "execution_count": 18,
   "metadata": {},
   "outputs": [],
   "source": [
    "deciding_prompt = \"\"\"\n",
    "You are a helpful medical assistant. For a patient on being asked a question as {question}. The patient answered as {answer}.Output what conclusions you draw from it based on the information given as {info}.Stick strictly to the information given\n",
    "\"\"\""
   ]
  },
  {
   "cell_type": "code",
   "execution_count": 19,
   "metadata": {},
   "outputs": [],
   "source": [
    "end_prompt = \"\"\"\n",
    "You are a helpful medical assistant . You will be given a patient description as {patient_description} . Your task is to check whether the patient description is enough to suggest one particular test from the given list as {list} or do you need further information if yes output integer 0 if you need more information or Output the test by comma seperated values \n",
    "\"\"\""
   ]
  },
  {
   "cell_type": "code",
   "execution_count": 20,
   "metadata": {},
   "outputs": [],
   "source": [
    "from langgraph.graph import StateGraph, END\n",
    "from typing import TypedDict, Annotated, List\n",
    "import operator\n",
    "from langgraph.checkpoint.sqlite import SqliteSaver\n",
    "from langchain_core.messages import AnyMessage, SystemMessage, HumanMessage, AIMessage, ChatMessage\n",
    "\n",
    "memory = SqliteSaver.from_conn_string(\":memory:\")\n",
    "class AgentState(TypedDict):\n",
    "    \n",
    "    patient_des:List[str]\n",
    "    questions:List[str]\n",
    "    answers:List[str]\n",
    "    content:str\n",
    "    boolean:int\n",
    "    current_state:str\n",
    "    \n",
    "model=\"gpt-4-32k\""
   ]
  },
  {
   "cell_type": "code",
   "execution_count": 21,
   "metadata": {},
   "outputs": [],
   "source": [
    "def patient_des_node(state:AgentState):\n",
    "    print('Patient_node')\n",
    "    print('------------------------')\n",
    "    pd = ''.join(state['patient_des'])\n",
    "    \n",
    "    content = state['content']\n",
    "    messages = [\n",
    "        {\n",
    "            'role':'system',\n",
    "            'content':patient_prompt\n",
    "            \n",
    "             \n",
    "        },\n",
    "        {\n",
    "            'role':'user',\n",
    "            'content':f'patient_description:{pd} .\\n medical_tests:{content}'\n",
    "        }\n",
    "    ]\n",
    "    response = client.chat.completions.create(\n",
    "        model=model,\n",
    "        messages=messages\n",
    "        \n",
    "    )\n",
    "    content = response.choices[0].message.content\n",
    "    x = state['questions']  or []\n",
    "    \n",
    "    x.append(content)\n",
    "    return {'questions':x}\n",
    "    \n",
    "    "
   ]
  },
  {
   "cell_type": "code",
   "execution_count": 22,
   "metadata": {},
   "outputs": [],
   "source": [
    "def question_ans(state:AgentState):\n",
    "    print('Question')\n",
    "    print('------------------------')\n",
    "    que = state['questions'][-1]\n",
    "    ans = state['answers'][-1]\n",
    "   \n",
    "    cont = state['content']\n",
    "    messages = [\n",
    "        {\n",
    "            'role':'system',\n",
    "            'content':deciding_prompt\n",
    "            \n",
    "        },\n",
    "        {\n",
    "            'role':'user',\n",
    "            'content':f'question:{que} .\\n answer:{ans} .\\n info: {cont}'\n",
    "        }\n",
    "    \n",
    "    ]\n",
    "    response = client.chat.completions.create(\n",
    "        model=model,\n",
    "        messages=messages\n",
    "        \n",
    "    )\n",
    "    content = response.choices[0].message.content\n",
    "    x = state['answers'] or []\n",
    "    x.append(content)\n",
    "    print(x)\n",
    "    y = state['patient_des'][0]\n",
    "    y += content\n",
    "    print(y)\n",
    "    \n",
    "    return {'answers':x,'patient_des':[y]}\n"
   ]
  },
  {
   "cell_type": "code",
   "execution_count": 23,
   "metadata": {},
   "outputs": [],
   "source": [
    "def end_node(state:AgentState):\n",
    "    print('End')\n",
    "    print('------------------------')\n",
    "    print(state['patient_des'])\n",
    "    p = state['patient_des']\n",
    "    l = state['content']\n",
    "    messages = [\n",
    "        {\n",
    "            'role':'system',\n",
    "            'content': end_prompt\n",
    "        },\n",
    "        {\n",
    "            'role':'user',\n",
    "            'content':f'patient_description:{p} .\\n list:{l}'\n",
    "        }\n",
    "        \n",
    "    ]\n",
    "    response = client.chat.completions.create(\n",
    "        model=model,\n",
    "        messages=messages\n",
    "        \n",
    "    )\n",
    "    content = response.choices[0].message.content\n",
    "    if content=='0':\n",
    "       \n",
    "       return {'boolean':[0,content]}\n",
    "    else:\n",
    "        answers = state['answers']\n",
    "        \n",
    "        return {'boolean':[1,content] }\n",
    "    \n",
    "    "
   ]
  },
  {
   "cell_type": "code",
   "execution_count": null,
   "metadata": {},
   "outputs": [],
   "source": []
  },
  {
   "cell_type": "code",
   "execution_count": 24,
   "metadata": {},
   "outputs": [],
   "source": [
    "builder = StateGraph(AgentState)"
   ]
  },
  {
   "cell_type": "code",
   "execution_count": 25,
   "metadata": {},
   "outputs": [],
   "source": [
    "builder.add_node('patient_description',patient_des_node)\n",
    "builder.add_node('ques_ans',question_ans)\n",
    "builder.add_node('end_node',end_node)\n"
   ]
  },
  {
   "cell_type": "code",
   "execution_count": 26,
   "metadata": {},
   "outputs": [],
   "source": [
    "builder.set_entry_point('patient_description')"
   ]
  },
  {
   "cell_type": "code",
   "execution_count": 27,
   "metadata": {},
   "outputs": [],
   "source": [
    "builder.add_conditional_edges(\n",
    "    'end_node',\n",
    "    lambda state: state['boolean'][0],  # Use the value from 'next_node'\n",
    "    \n",
    "    {1: END, 0: 'patient_description'}\n",
    "    \n",
    "    \n",
    ")"
   ]
  },
  {
   "cell_type": "code",
   "execution_count": 28,
   "metadata": {},
   "outputs": [],
   "source": [
    "builder.add_edge('patient_description','ques_ans')\n",
    "builder.add_edge('ques_ans','end_node')\n"
   ]
  },
  {
   "cell_type": "code",
   "execution_count": 29,
   "metadata": {},
   "outputs": [],
   "source": [
    "graph = builder.compile(checkpointer=memory,interrupt_before=['ques_ans'])"
   ]
  },
  {
   "cell_type": "code",
   "execution_count": 212,
   "metadata": {},
   "outputs": [],
   "source": [
    "thread = {\"configurable\": {\"thread_id\": \"16\"}}\n",
    "s  =  graph.stream({\n",
    "    'patient_des': ['A 69 year old female with difficulty in breathing'],\n",
    "    'content': retrieved_documents,\n",
    "    'questions': ['None'],\n",
    "    'answers': ['None'],\n",
    "    'boolean': 0\n",
    "}, thread)\n",
    "\n",
    "\n"
   ]
  },
  {
   "cell_type": "code",
   "execution_count": 213,
   "metadata": {},
   "outputs": [
    {
     "data": {
      "text/plain": [
       "[]"
      ]
     },
     "execution_count": 213,
     "metadata": {},
     "output_type": "execute_result"
    }
   ],
   "source": [
    "list(graph.get_state(thread).values)\n",
    "    "
   ]
  },
  {
   "cell_type": "code",
   "execution_count": 214,
   "metadata": {},
   "outputs": [
    {
     "data": {
      "text/plain": [
       "{'configurable': {'thread_id': '16'}}"
      ]
     },
     "execution_count": 214,
     "metadata": {},
     "output_type": "execute_result"
    }
   ],
   "source": [
    "thread"
   ]
  },
  {
   "cell_type": "code",
   "execution_count": 215,
   "metadata": {},
   "outputs": [
    {
     "name": "stdout",
     "output_type": "stream",
     "text": [
      "Patient_node\n",
      "------------------------\n",
      "dict_keys(['patient_description'])\n",
      "Have you experienced any recent weight changes, chest discomfort, or increased sensitivity to cold along with your difficulty in breathing? 2\n"
     ]
    }
   ],
   "source": [
    "for i in s:\n",
    "    print(i.keys())\n",
    "    if str(i.keys()) == \"dict_keys(['patient_description'])\":\n",
    "    \n",
    "        print(i['patient_description']['questions'][-1],len(i['patient_description']['questions']))"
   ]
  },
  {
   "cell_type": "code",
   "execution_count": 216,
   "metadata": {},
   "outputs": [
    {
     "data": {
      "text/plain": [
       "{'patient_des': ['A 69 year old female with difficulty in breathing'],\n",
       " 'questions': ['None',\n",
       "  'Have you experienced any recent weight changes, chest discomfort, or increased sensitivity to cold along with your difficulty in breathing?'],\n",
       " 'answers': ['None'],\n",
       " 'content': ['heart diseaseschest pain, chest tightness, chest pressure and chest discomfort ( angina ) shortness of breathpain in the neck, jaw, throat, upper belly area or backpain, numbness, weakness or coldness in the legs or arms if the blood vessels in those body areas are narrowedchest pain or discomfortdizzinessfainting ( syncope ) or near faintingfluttering in the chestlightheadednessracing heartbeat',\n",
       "  '( tachycardia ) shortness of breathslow heartbeat ( bradycardia ) easily getting short of breath during exercise or activityeasily tiring during exercise or activityswelling of the hands, ankles cholestrol tests : total cholestrol, ldl, hdl, tryglycerides, non hdl cholestrol. hs - crplp ( a ) plasma ceramidesbnptroponin telectrocardiogramechocardiogramtmtosteoporosisback pain, caused by a broken or collapsed',\n",
       "  'hyperthyroidismanxietydifficulty concentratingfatiguefrequent bowel movementsgoiter ( visibly enlarged thyroid gland ) or thyroid noduleshair losshand tremorheat intoleranceincreased appetiteincreased sweatingirregular menstrual periods in womennail changes ( thickness or flaking ) nervousnesspounding or racing heart beat ( palpitations ) restlessnesssleep problemsweight loss ( or weight gain, in some',\n",
       "  'hypothyroidismtiredness. more sensitivity to cold. constipation. dry skin. weight gain. puffy face. hoarse voice. coarse hair and skin. muscle weakness. muscle aches, tenderness and stiffness. menstrual cycles that are heavier than usual or irregular. thinning hair. slowed heart rate, also called bradycardia. depression. memory problems. blood pressurethyroid panel - t3, t4, tshcholestrol',\n",
       "  'bone in the spine. loss of height over time. a stooped posture. a bone that breaks much more easily than expected. bone densitybalpbone panelpcoshormone test fasting cholesterol and triglyceride levels'],\n",
       " 'boolean': 0}"
      ]
     },
     "execution_count": 216,
     "metadata": {},
     "output_type": "execute_result"
    }
   ],
   "source": [
    "graph.get_state(thread).values"
   ]
  },
  {
   "cell_type": "code",
   "execution_count": 176,
   "metadata": {},
   "outputs": [],
   "source": [
    "current_values = graph.get_state(thread)"
   ]
  },
  {
   "cell_type": "code",
   "execution_count": 177,
   "metadata": {},
   "outputs": [
    {
     "data": {
      "text/plain": [
       "StateSnapshot(values={'patient_des': ['A 69 year old female with difficulty in breathing'], 'questions': ['None', 'Considering your age and symptoms of difficulty in breathing, have you noticed any other symptoms lately like experiencing pain, numbness or coldness in your arms or legs, racing or slow heartbeat, getting easily tired during exercise, or showing signs like hair loss, hand tremor, weight changes, menstrual irregularity or any bone pain?'], 'answers': ['None'], 'content': ['heart diseaseschest pain, chest tightness, chest pressure and chest discomfort ( angina ) shortness of breathpain in the neck, jaw, throat, upper belly area or backpain, numbness, weakness or coldness in the legs or arms if the blood vessels in those body areas are narrowedchest pain or discomfortdizzinessfainting ( syncope ) or near faintingfluttering in the chestlightheadednessracing heartbeat', '( tachycardia ) shortness of breathslow heartbeat ( bradycardia ) easily getting short of breath during exercise or activityeasily tiring during exercise or activityswelling of the hands, ankles cholestrol tests : total cholestrol, ldl, hdl, tryglycerides, non hdl cholestrol. hs - crplp ( a ) plasma ceramidesbnptroponin telectrocardiogramechocardiogramtmtosteoporosisback pain, caused by a broken or collapsed', 'hyperthyroidismanxietydifficulty concentratingfatiguefrequent bowel movementsgoiter ( visibly enlarged thyroid gland ) or thyroid noduleshair losshand tremorheat intoleranceincreased appetiteincreased sweatingirregular menstrual periods in womennail changes ( thickness or flaking ) nervousnesspounding or racing heart beat ( palpitations ) restlessnesssleep problemsweight loss ( or weight gain, in some', 'hypothyroidismtiredness. more sensitivity to cold. constipation. dry skin. weight gain. puffy face. hoarse voice. coarse hair and skin. muscle weakness. muscle aches, tenderness and stiffness. menstrual cycles that are heavier than usual or irregular. thinning hair. slowed heart rate, also called bradycardia. depression. memory problems. blood pressurethyroid panel - t3, t4, tshcholestrol', 'bone in the spine. loss of height over time. a stooped posture. a bone that breaks much more easily than expected. bone densitybalpbone panelpcoshormone test fasting cholesterol and triglyceride levels'], 'boolean': 0}, next=('ques_ans',), config={'configurable': {'thread_id': '10', 'thread_ts': '1ef44eff-e965-6fdf-8001-1857863b6eab'}}, metadata={'source': 'loop', 'step': 1, 'writes': {'patient_description': {'questions': ['None', 'Considering your age and symptoms of difficulty in breathing, have you noticed any other symptoms lately like experiencing pain, numbness or coldness in your arms or legs, racing or slow heartbeat, getting easily tired during exercise, or showing signs like hair loss, hand tremor, weight changes, menstrual irregularity or any bone pain?']}}}, created_at='2024-07-18T10:25:03.091503+00:00', parent_config={'configurable': {'thread_id': '10', 'thread_ts': '1ef44eff-bd93-6582-8000-98c4ca7ca956'}})"
      ]
     },
     "execution_count": 177,
     "metadata": {},
     "output_type": "execute_result"
    }
   ],
   "source": [
    "current_values"
   ]
  },
  {
   "cell_type": "code",
   "execution_count": 178,
   "metadata": {},
   "outputs": [],
   "source": [
    "current_values.values['answers'].append('no')"
   ]
  },
  {
   "cell_type": "code",
   "execution_count": 179,
   "metadata": {},
   "outputs": [
    {
     "data": {
      "text/plain": [
       "('ques_ans',)"
      ]
     },
     "execution_count": 179,
     "metadata": {},
     "output_type": "execute_result"
    }
   ],
   "source": [
    "graph.get_state(thread).next"
   ]
  },
  {
   "cell_type": "code",
   "execution_count": 180,
   "metadata": {},
   "outputs": [
    {
     "data": {
      "text/plain": [
       "{'configurable': {'thread_id': '10',\n",
       "  'thread_ts': '1ef44f00-4ea7-6a1a-8002-19275b378531'}}"
      ]
     },
     "execution_count": 180,
     "metadata": {},
     "output_type": "execute_result"
    }
   ],
   "source": [
    "graph.update_state(thread,current_values.values)\n"
   ]
  },
  {
   "cell_type": "code",
   "execution_count": 181,
   "metadata": {},
   "outputs": [
    {
     "data": {
      "text/plain": [
       "{'configurable': {'thread_id': '10'}}"
      ]
     },
     "execution_count": 181,
     "metadata": {},
     "output_type": "execute_result"
    }
   ],
   "source": [
    "thread"
   ]
  },
  {
   "cell_type": "code",
   "execution_count": 182,
   "metadata": {},
   "outputs": [
    {
     "data": {
      "text/plain": [
       "StateSnapshot(values={'patient_des': ['A 69 year old female with difficulty in breathing'], 'questions': ['None', 'Considering your age and symptoms of difficulty in breathing, have you noticed any other symptoms lately like experiencing pain, numbness or coldness in your arms or legs, racing or slow heartbeat, getting easily tired during exercise, or showing signs like hair loss, hand tremor, weight changes, menstrual irregularity or any bone pain?'], 'answers': ['None', 'no'], 'content': ['heart diseaseschest pain, chest tightness, chest pressure and chest discomfort ( angina ) shortness of breathpain in the neck, jaw, throat, upper belly area or backpain, numbness, weakness or coldness in the legs or arms if the blood vessels in those body areas are narrowedchest pain or discomfortdizzinessfainting ( syncope ) or near faintingfluttering in the chestlightheadednessracing heartbeat', '( tachycardia ) shortness of breathslow heartbeat ( bradycardia ) easily getting short of breath during exercise or activityeasily tiring during exercise or activityswelling of the hands, ankles cholestrol tests : total cholestrol, ldl, hdl, tryglycerides, non hdl cholestrol. hs - crplp ( a ) plasma ceramidesbnptroponin telectrocardiogramechocardiogramtmtosteoporosisback pain, caused by a broken or collapsed', 'hyperthyroidismanxietydifficulty concentratingfatiguefrequent bowel movementsgoiter ( visibly enlarged thyroid gland ) or thyroid noduleshair losshand tremorheat intoleranceincreased appetiteincreased sweatingirregular menstrual periods in womennail changes ( thickness or flaking ) nervousnesspounding or racing heart beat ( palpitations ) restlessnesssleep problemsweight loss ( or weight gain, in some', 'hypothyroidismtiredness. more sensitivity to cold. constipation. dry skin. weight gain. puffy face. hoarse voice. coarse hair and skin. muscle weakness. muscle aches, tenderness and stiffness. menstrual cycles that are heavier than usual or irregular. thinning hair. slowed heart rate, also called bradycardia. depression. memory problems. blood pressurethyroid panel - t3, t4, tshcholestrol', 'bone in the spine. loss of height over time. a stooped posture. a bone that breaks much more easily than expected. bone densitybalpbone panelpcoshormone test fasting cholesterol and triglyceride levels'], 'boolean': 0}, next=('ques_ans',), config={'configurable': {'thread_id': '10', 'thread_ts': '1ef44f00-4ea7-6a1a-8002-19275b378531'}}, metadata={'source': 'update', 'step': 2, 'writes': {'patient_description': {'patient_des': ['A 69 year old female with difficulty in breathing'], 'questions': ['None', 'Considering your age and symptoms of difficulty in breathing, have you noticed any other symptoms lately like experiencing pain, numbness or coldness in your arms or legs, racing or slow heartbeat, getting easily tired during exercise, or showing signs like hair loss, hand tremor, weight changes, menstrual irregularity or any bone pain?'], 'answers': ['None', 'no'], 'content': ['heart diseaseschest pain, chest tightness, chest pressure and chest discomfort ( angina ) shortness of breathpain in the neck, jaw, throat, upper belly area or backpain, numbness, weakness or coldness in the legs or arms if the blood vessels in those body areas are narrowedchest pain or discomfortdizzinessfainting ( syncope ) or near faintingfluttering in the chestlightheadednessracing heartbeat', '( tachycardia ) shortness of breathslow heartbeat ( bradycardia ) easily getting short of breath during exercise or activityeasily tiring during exercise or activityswelling of the hands, ankles cholestrol tests : total cholestrol, ldl, hdl, tryglycerides, non hdl cholestrol. hs - crplp ( a ) plasma ceramidesbnptroponin telectrocardiogramechocardiogramtmtosteoporosisback pain, caused by a broken or collapsed', 'hyperthyroidismanxietydifficulty concentratingfatiguefrequent bowel movementsgoiter ( visibly enlarged thyroid gland ) or thyroid noduleshair losshand tremorheat intoleranceincreased appetiteincreased sweatingirregular menstrual periods in womennail changes ( thickness or flaking ) nervousnesspounding or racing heart beat ( palpitations ) restlessnesssleep problemsweight loss ( or weight gain, in some', 'hypothyroidismtiredness. more sensitivity to cold. constipation. dry skin. weight gain. puffy face. hoarse voice. coarse hair and skin. muscle weakness. muscle aches, tenderness and stiffness. menstrual cycles that are heavier than usual or irregular. thinning hair. slowed heart rate, also called bradycardia. depression. memory problems. blood pressurethyroid panel - t3, t4, tshcholestrol', 'bone in the spine. loss of height over time. a stooped posture. a bone that breaks much more easily than expected. bone densitybalpbone panelpcoshormone test fasting cholesterol and triglyceride levels'], 'boolean': 0}}}, created_at='2024-07-18T10:25:13.709007+00:00', parent_config={'configurable': {'thread_id': '10', 'thread_ts': '1ef44eff-e965-6fdf-8001-1857863b6eab'}})"
      ]
     },
     "execution_count": 182,
     "metadata": {},
     "output_type": "execute_result"
    }
   ],
   "source": [
    "graph.get_state(thread)"
   ]
  },
  {
   "cell_type": "code",
   "execution_count": 183,
   "metadata": {},
   "outputs": [
    {
     "name": "stdout",
     "output_type": "stream",
     "text": [
      "Question\n",
      "------------------------\n",
      "['None', 'no', \"Based on the patient's negative response to the symptoms related to heart diseases, hyperthyroidism, hypothyroidism, and bone-related issues such as osteoporosis, there seems to be no immediate concern regarding these conditions. However, it should be noted that absence of these symptoms does not entirely rule out these conditions since many conditions can be asymptomatic in their early stages. Regular check-ups are required to ensure optimal health.\"]\n",
      "A 69 year old female with difficulty in breathingBased on the patient's negative response to the symptoms related to heart diseases, hyperthyroidism, hypothyroidism, and bone-related issues such as osteoporosis, there seems to be no immediate concern regarding these conditions. However, it should be noted that absence of these symptoms does not entirely rule out these conditions since many conditions can be asymptomatic in their early stages. Regular check-ups are required to ensure optimal health.\n",
      "{'patient_des': [\"A 69 year old female with difficulty in breathingBased on the patient's negative response to the symptoms related to heart diseases, hyperthyroidism, hypothyroidism, and bone-related issues such as osteoporosis, there seems to be no immediate concern regarding these conditions. However, it should be noted that absence of these symptoms does not entirely rule out these conditions since many conditions can be asymptomatic in their early stages. Regular check-ups are required to ensure optimal health.\"], 'answers': ['None', 'no', \"Based on the patient's negative response to the symptoms related to heart diseases, hyperthyroidism, hypothyroidism, and bone-related issues such as osteoporosis, there seems to be no immediate concern regarding these conditions. However, it should be noted that absence of these symptoms does not entirely rule out these conditions since many conditions can be asymptomatic in their early stages. Regular check-ups are required to ensure optimal health.\"]}\n",
      "End\n",
      "------------------------\n",
      "[\"A 69 year old female with difficulty in breathingBased on the patient's negative response to the symptoms related to heart diseases, hyperthyroidism, hypothyroidism, and bone-related issues such as osteoporosis, there seems to be no immediate concern regarding these conditions. However, it should be noted that absence of these symptoms does not entirely rule out these conditions since many conditions can be asymptomatic in their early stages. Regular check-ups are required to ensure optimal health.\"]\n",
      "{'boolean': [0, '0']}\n",
      "Patient_node\n",
      "------------------------\n",
      "{'questions': ['None', 'Considering your age and symptoms of difficulty in breathing, have you noticed any other symptoms lately like experiencing pain, numbness or coldness in your arms or legs, racing or slow heartbeat, getting easily tired during exercise, or showing signs like hair loss, hand tremor, weight changes, menstrual irregularity or any bone pain?', 'Based on your symptoms and our need to rule out certain conditions, have you had any recent changes in weight, felt unusually tired, experienced a change in your bowel movements or menstrual cycles, or noticed an increase in sensitivity to heat or cold?']}\n"
     ]
    }
   ],
   "source": [
    "for event in graph.stream(None, thread):\n",
    "    for v in event.values():\n",
    "        print(v)"
   ]
  },
  {
   "cell_type": "code",
   "execution_count": 96,
   "metadata": {},
   "outputs": [],
   "source": [
    "#recursive code\n",
    "\n"
   ]
  },
  {
   "cell_type": "code",
   "execution_count": 107,
   "metadata": {},
   "outputs": [],
   "source": [
    "thread = {\"configurable\": {\"thread_id\": \"1\"}}\n",
    "s  =  graph.stream({\n",
    "    'patient_des': ['A 69 year old female with difficulty in breathing'],\n",
    "    'content': retrieved_documents,\n",
    "    'questions': ['None'],\n",
    "    'answers': ['None'],\n",
    "    'boolean': 0\n",
    "}, thread)\n"
   ]
  },
  {
   "cell_type": "code",
   "execution_count": 108,
   "metadata": {},
   "outputs": [
    {
     "data": {
      "text/plain": [
       "['None',\n",
       " 'no',\n",
       " \"The patient does not have a history of heart diseases or thyroid conditions and has not recently had a cholesterol check or a bone density test. This suggests that they have not experienced symptoms related to these conditions such as chest pain, irregular heartbeat, anxiety, muscle weakness, or unexpected changes in weight or body structure. They also have not undergone testing for issues related to cholesterol and bone density. But because they haven't had recent tests, their current cholesterol levels and bone health are unknown. Thus no health conditions can be identified at this point. The patient's health status should continue to be monitored and regular tests are advised in the future.\"]"
      ]
     },
     "execution_count": 108,
     "metadata": {},
     "output_type": "execute_result"
    }
   ],
   "source": [
    "graph.get_state(thread).values['answers']"
   ]
  },
  {
   "cell_type": "code",
   "execution_count": 217,
   "metadata": {},
   "outputs": [],
   "source": [
    "\n",
    "def run(graph,thread,patient_description,list_tests):\n",
    "    if len(list(graph.get_state(thread).values))==0:\n",
    "        s = graph.stream({\n",
    "        'patient_des': [patient_description],\n",
    "        'content': list_tests,\n",
    "        'questions': ['None'],\n",
    "        'answers': ['None'],\n",
    "        'boolean': 0\n",
    "        }, thread)\n",
    "        return s\n",
    "    else:\n",
    "        s = graph.stream(None,thread)\n",
    "        return s\n",
    "                \n",
    "                \n",
    "        \n",
    "\n"
   ]
  },
  {
   "cell_type": "code",
   "execution_count": 235,
   "metadata": {},
   "outputs": [],
   "source": [
    "thread = {\"configurable\": {\"thread_id\": \"20\"}}\n",
    "s  =  graph.stream({\n",
    "    'patient_des': ['A 69 year old female with difficulty in breathing'],\n",
    "    'content': retrieved_documents,\n",
    "    'questions': ['None'],\n",
    "    'answers': ['None'],\n",
    "    'boolean': 0\n",
    "}, thread)"
   ]
  },
  {
   "cell_type": "code",
   "execution_count": 233,
   "metadata": {},
   "outputs": [],
   "source": [
    "input = __builtins__.input\n",
    "def recursive_function_1(graph,thread,patient_description,list_tests):\n",
    "    x = run(graph,thread,patient_description,list_tests)\n",
    "    for i in x:\n",
    "        print(i.keys())\n",
    "        if str(i.keys()) == \"dict_keys(['patient_description'])\":\n",
    "            ans = input(i['patient_description']['questions'][-1])\n",
    "        elif(str(i.keys()) == \"dict_keys(['end_node'])\" and i['end_node']['boolean'][0]==1):\n",
    "            print('Ans---->',i['end_node']['boolean'][1])\n",
    "            return i['end_node']['boolean'][1]\n",
    "            \n",
    "            \n",
    "    current_values = graph.get_state(thread)\n",
    "    current_values.values['answers'].append(ans)\n",
    "    graph.get_state(thread).next\n",
    "    graph.update_state(thread,current_values.values)\n",
    "    recursive_function_1(graph,thread,patient_description,list_tests)\n",
    "        \n",
    "        "
   ]
  },
  {
   "cell_type": "code",
   "execution_count": 236,
   "metadata": {},
   "outputs": [
    {
     "name": "stdout",
     "output_type": "stream",
     "text": [
      "Patient_node\n",
      "------------------------\n",
      "dict_keys(['patient_description'])\n",
      "Question\n",
      "------------------------\n",
      "['None', 'no', \"The patient's negative response to experiencing weight changes, irregular menstrual periods, sensitivity to cold, fatigue or muscle stiffness suggests that they may not have conditions like Hypothyroidism or PCOS which are characterized by these symptoms. Furthermore, they may also not be experiencing Hyperthyroidism as the patient also denies symptoms of frequent bowel movements, increased appetite, or heat intolerance. Additionally, the lack of reported fatigue or muscle stiffness also suggests they may not have conditions like heart diseases or Osteoporosis. This is strictly based on the information provided and further testing would be required for a complete diagnosis.\"]\n",
      "A 69 year old female with difficulty in breathingThe patient's negative response to experiencing weight changes, irregular menstrual periods, sensitivity to cold, fatigue or muscle stiffness suggests that they may not have conditions like Hypothyroidism or PCOS which are characterized by these symptoms. Furthermore, they may also not be experiencing Hyperthyroidism as the patient also denies symptoms of frequent bowel movements, increased appetite, or heat intolerance. Additionally, the lack of reported fatigue or muscle stiffness also suggests they may not have conditions like heart diseases or Osteoporosis. This is strictly based on the information provided and further testing would be required for a complete diagnosis.\n",
      "dict_keys(['ques_ans'])\n",
      "End\n",
      "------------------------\n",
      "[\"A 69 year old female with difficulty in breathingThe patient's negative response to experiencing weight changes, irregular menstrual periods, sensitivity to cold, fatigue or muscle stiffness suggests that they may not have conditions like Hypothyroidism or PCOS which are characterized by these symptoms. Furthermore, they may also not be experiencing Hyperthyroidism as the patient also denies symptoms of frequent bowel movements, increased appetite, or heat intolerance. Additionally, the lack of reported fatigue or muscle stiffness also suggests they may not have conditions like heart diseases or Osteoporosis. This is strictly based on the information provided and further testing would be required for a complete diagnosis.\"]\n",
      "dict_keys(['end_node'])\n",
      "Patient_node\n",
      "------------------------\n",
      "dict_keys(['patient_description'])\n",
      "Question\n",
      "------------------------\n",
      "['None', 'no', \"The patient's negative response to experiencing weight changes, irregular menstrual periods, sensitivity to cold, fatigue or muscle stiffness suggests that they may not have conditions like Hypothyroidism or PCOS which are characterized by these symptoms. Furthermore, they may also not be experiencing Hyperthyroidism as the patient also denies symptoms of frequent bowel movements, increased appetite, or heat intolerance. Additionally, the lack of reported fatigue or muscle stiffness also suggests they may not have conditions like heart diseases or Osteoporosis. This is strictly based on the information provided and further testing would be required for a complete diagnosis.\", 'yes', 'The patient\\'s response of \"yes\" to experiencing chest pain, discomfort, or tightness, and shortness of breath during exercise or activity indicates a possibility of heart diseases. These symptoms align with those of heart disorders such as angina, or problems related to narrowed blood vessels. The patient might be experiencing conditions like tachycardia (racing heartbeat), bradycardia (slowness of heartbeat), or lightheadedness. Further diagnostic testing such as cholesterol tests, hs-crp, lp(a), plasma ceramides, bnp, troponin t, electrocardiogram, echocardiogram, and tmt might be required for a more definitive diagnosis.']\n",
      "A 69 year old female with difficulty in breathingThe patient's negative response to experiencing weight changes, irregular menstrual periods, sensitivity to cold, fatigue or muscle stiffness suggests that they may not have conditions like Hypothyroidism or PCOS which are characterized by these symptoms. Furthermore, they may also not be experiencing Hyperthyroidism as the patient also denies symptoms of frequent bowel movements, increased appetite, or heat intolerance. Additionally, the lack of reported fatigue or muscle stiffness also suggests they may not have conditions like heart diseases or Osteoporosis. This is strictly based on the information provided and further testing would be required for a complete diagnosis.The patient's response of \"yes\" to experiencing chest pain, discomfort, or tightness, and shortness of breath during exercise or activity indicates a possibility of heart diseases. These symptoms align with those of heart disorders such as angina, or problems related to narrowed blood vessels. The patient might be experiencing conditions like tachycardia (racing heartbeat), bradycardia (slowness of heartbeat), or lightheadedness. Further diagnostic testing such as cholesterol tests, hs-crp, lp(a), plasma ceramides, bnp, troponin t, electrocardiogram, echocardiogram, and tmt might be required for a more definitive diagnosis.\n",
      "dict_keys(['ques_ans'])\n",
      "End\n",
      "------------------------\n",
      "['A 69 year old female with difficulty in breathingThe patient\\'s negative response to experiencing weight changes, irregular menstrual periods, sensitivity to cold, fatigue or muscle stiffness suggests that they may not have conditions like Hypothyroidism or PCOS which are characterized by these symptoms. Furthermore, they may also not be experiencing Hyperthyroidism as the patient also denies symptoms of frequent bowel movements, increased appetite, or heat intolerance. Additionally, the lack of reported fatigue or muscle stiffness also suggests they may not have conditions like heart diseases or Osteoporosis. This is strictly based on the information provided and further testing would be required for a complete diagnosis.The patient\\'s response of \"yes\" to experiencing chest pain, discomfort, or tightness, and shortness of breath during exercise or activity indicates a possibility of heart diseases. These symptoms align with those of heart disorders such as angina, or problems related to narrowed blood vessels. The patient might be experiencing conditions like tachycardia (racing heartbeat), bradycardia (slowness of heartbeat), or lightheadedness. Further diagnostic testing such as cholesterol tests, hs-crp, lp(a), plasma ceramides, bnp, troponin t, electrocardiogram, echocardiogram, and tmt might be required for a more definitive diagnosis.']\n",
      "dict_keys(['end_node'])\n",
      "Ans----> 'cholestrol tests : total cholestrol, ldl, hdl, tryglycerides, non hdl cholestrol. hs - crp, lp ( a ) plasma ceramides, bnp, troponin t, electrocardiogram, echocardiogram, tmt'\n"
     ]
    }
   ],
   "source": [
    "recursive_function_1(graph,thread,patient_description,list_tests)"
   ]
  },
  {
   "cell_type": "code",
   "execution_count": 219,
   "metadata": {},
   "outputs": [],
   "source": [
    "x = run(graph,thread,patient_description,list_tests)"
   ]
  },
  {
   "cell_type": "code",
   "execution_count": 220,
   "metadata": {},
   "outputs": [
    {
     "name": "stdout",
     "output_type": "stream",
     "text": [
      "Patient_node\n",
      "------------------------\n",
      "dict_keys(['patient_description'])\n",
      "Have you noticed any changes in your appetite, sleep, or experiencing more sensitivity to cold along with your breathing difficulty? 2\n"
     ]
    }
   ],
   "source": [
    "for i in s:\n",
    "    print(i.keys())\n",
    "    if str(i.keys()) == \"dict_keys(['patient_description'])\":\n",
    "    \n",
    "        print(i['patient_description']['questions'][-1],len(i['patient_description']['questions']))"
   ]
  },
  {
   "cell_type": "code",
   "execution_count": 221,
   "metadata": {},
   "outputs": [
    {
     "data": {
      "text/plain": [
       "{'patient_des': ['A 69 year old female with difficulty in breathing'],\n",
       " 'questions': ['None',\n",
       "  'Have you noticed any changes in your appetite, sleep, or experiencing more sensitivity to cold along with your breathing difficulty?'],\n",
       " 'answers': ['None'],\n",
       " 'content': ['heart diseaseschest pain, chest tightness, chest pressure and chest discomfort ( angina ) shortness of breathpain in the neck, jaw, throat, upper belly area or backpain, numbness, weakness or coldness in the legs or arms if the blood vessels in those body areas are narrowedchest pain or discomfortdizzinessfainting ( syncope ) or near faintingfluttering in the chestlightheadednessracing heartbeat',\n",
       "  '( tachycardia ) shortness of breathslow heartbeat ( bradycardia ) easily getting short of breath during exercise or activityeasily tiring during exercise or activityswelling of the hands, ankles cholestrol tests : total cholestrol, ldl, hdl, tryglycerides, non hdl cholestrol. hs - crplp ( a ) plasma ceramidesbnptroponin telectrocardiogramechocardiogramtmtosteoporosisback pain, caused by a broken or collapsed',\n",
       "  'hyperthyroidismanxietydifficulty concentratingfatiguefrequent bowel movementsgoiter ( visibly enlarged thyroid gland ) or thyroid noduleshair losshand tremorheat intoleranceincreased appetiteincreased sweatingirregular menstrual periods in womennail changes ( thickness or flaking ) nervousnesspounding or racing heart beat ( palpitations ) restlessnesssleep problemsweight loss ( or weight gain, in some',\n",
       "  'hypothyroidismtiredness. more sensitivity to cold. constipation. dry skin. weight gain. puffy face. hoarse voice. coarse hair and skin. muscle weakness. muscle aches, tenderness and stiffness. menstrual cycles that are heavier than usual or irregular. thinning hair. slowed heart rate, also called bradycardia. depression. memory problems. blood pressurethyroid panel - t3, t4, tshcholestrol',\n",
       "  'bone in the spine. loss of height over time. a stooped posture. a bone that breaks much more easily than expected. bone densitybalpbone panelpcoshormone test fasting cholesterol and triglyceride levels'],\n",
       " 'boolean': 0}"
      ]
     },
     "execution_count": 221,
     "metadata": {},
     "output_type": "execute_result"
    }
   ],
   "source": [
    "graph.get_state(thread).values"
   ]
  },
  {
   "cell_type": "code",
   "execution_count": 222,
   "metadata": {},
   "outputs": [
    {
     "data": {
      "text/plain": [
       "('ques_ans',)"
      ]
     },
     "execution_count": 222,
     "metadata": {},
     "output_type": "execute_result"
    }
   ],
   "source": [
    "current_values = graph.get_state(thread)\n",
    "current_values.values['answers'].append('no')\n",
    "graph.get_state(thread).next"
   ]
  },
  {
   "cell_type": "code",
   "execution_count": 224,
   "metadata": {},
   "outputs": [
    {
     "data": {
      "text/plain": [
       "['None', 'no']"
      ]
     },
     "execution_count": 224,
     "metadata": {},
     "output_type": "execute_result"
    }
   ],
   "source": [
    "graph.update_state(thread,current_values.values)\n",
    "graph.get_state(thread).values['answers']"
   ]
  },
  {
   "cell_type": "code",
   "execution_count": 226,
   "metadata": {},
   "outputs": [],
   "source": [
    "y = run(graph,thread,patient_description,list_tests)"
   ]
  },
  {
   "cell_type": "code",
   "execution_count": 227,
   "metadata": {},
   "outputs": [
    {
     "name": "stdout",
     "output_type": "stream",
     "text": [
      "Question\n",
      "------------------------\n",
      "['None', 'no', \"Based on the patient's response, we can conclude that they are not experiencing symptoms associated with conditions such as hypothyroidism (sensitivity to cold, changes in sleep), or hyperthyroidism (changes in appetite, sleep disturbances). The reported breathing difficulty could be associated with heart diseases as it is mentioned in the provided information, but the absence of other symptoms like chest pain, dizziness, and coldness in limbs makes it less conclusive. More tests may be needed to rule out such possibilities.\"]\n",
      "A 69 year old female with difficulty in breathingBased on the patient's response, we can conclude that they are not experiencing symptoms associated with conditions such as hypothyroidism (sensitivity to cold, changes in sleep), or hyperthyroidism (changes in appetite, sleep disturbances). The reported breathing difficulty could be associated with heart diseases as it is mentioned in the provided information, but the absence of other symptoms like chest pain, dizziness, and coldness in limbs makes it less conclusive. More tests may be needed to rule out such possibilities.\n",
      "{'patient_des': [\"A 69 year old female with difficulty in breathingBased on the patient's response, we can conclude that they are not experiencing symptoms associated with conditions such as hypothyroidism (sensitivity to cold, changes in sleep), or hyperthyroidism (changes in appetite, sleep disturbances). The reported breathing difficulty could be associated with heart diseases as it is mentioned in the provided information, but the absence of other symptoms like chest pain, dizziness, and coldness in limbs makes it less conclusive. More tests may be needed to rule out such possibilities.\"], 'answers': ['None', 'no', \"Based on the patient's response, we can conclude that they are not experiencing symptoms associated with conditions such as hypothyroidism (sensitivity to cold, changes in sleep), or hyperthyroidism (changes in appetite, sleep disturbances). The reported breathing difficulty could be associated with heart diseases as it is mentioned in the provided information, but the absence of other symptoms like chest pain, dizziness, and coldness in limbs makes it less conclusive. More tests may be needed to rule out such possibilities.\"]}\n",
      "End\n",
      "------------------------\n",
      "[\"A 69 year old female with difficulty in breathingBased on the patient's response, we can conclude that they are not experiencing symptoms associated with conditions such as hypothyroidism (sensitivity to cold, changes in sleep), or hyperthyroidism (changes in appetite, sleep disturbances). The reported breathing difficulty could be associated with heart diseases as it is mentioned in the provided information, but the absence of other symptoms like chest pain, dizziness, and coldness in limbs makes it less conclusive. More tests may be needed to rule out such possibilities.\"]\n",
      "{'boolean': [0, '0']}\n",
      "Patient_node\n",
      "------------------------\n",
      "{'questions': ['None', 'Have you noticed any changes in your appetite, sleep, or experiencing more sensitivity to cold along with your breathing difficulty?', 'Based on your symptoms, have you had any sudden weight changes, altered sleep patterns, muscle weakness, or any abnormal heart rhythms recently?']}\n"
     ]
    }
   ],
   "source": [
    "for event in y:\n",
    "    for v in event.values():\n",
    "        print(v)"
   ]
  },
  {
   "cell_type": "code",
   "execution_count": 49,
   "metadata": {},
   "outputs": [
    {
     "name": "stdout",
     "output_type": "stream",
     "text": [
      "Patient_node\n",
      "------------------------\n",
      "{'patient_description': {'questions': ['None', 'Considering your difficulty in breathing and your age, can you tell me more about your medical history, including any heart diseases, thyroid issues, or osteoporosis, and when was the last time you had a complete blood panel that includes cholesterol, hormone tests and bone panel?', 'Considering your symptoms and age, have you noticed any visible changes such as weight loss or gain, frequent bowel movements, or any palpitations or restlessness that might suggest thyroid issues or cardiac lessions along with your breathing difficulty?']}}\n"
     ]
    }
   ],
   "source": []
  },
  {
   "cell_type": "code",
   "execution_count": 33,
   "metadata": {},
   "outputs": [
    {
     "name": "stdout",
     "output_type": "stream",
     "text": [
      "Patient_node\n",
      "------------------------\n",
      "{'patient_description': {'questions': ['None', 'Given your difficulty in breathing, have you also experienced symptoms like chest pain, dizziness, or rapid heartbeat recently? Also, have you noticed changes in your weight, menstrual cycles, or sensitivity to cold?', \"Since you're experiencing difficulty in breathing, have you noticed any associated symptoms such as chest pain or discomfort, dizziness, fainting, palpitations or easily getting short of breath during exercise or activity?\"]}}\n"
     ]
    }
   ],
   "source": [
    "input = 'no'\n",
    "s = graph.stream(\n",
    "    {'answers':[input]},\n",
    "    thread\n",
    ")\n",
    "for i in s:\n",
    "    print(i)"
   ]
  },
  {
   "cell_type": "code",
   "execution_count": null,
   "metadata": {},
   "outputs": [
    {
     "name": "stdout",
     "output_type": "stream",
     "text": [
      "Collecting pygraphviz\n",
      "  Downloading pygraphviz-1.11.zip (120 kB)\n",
      "     ---------------------------------------- 0.0/120.8 kB ? eta -:--:--\n",
      "     ------ ------------------------------ 20.5/120.8 kB 330.3 kB/s eta 0:00:01\n",
      "     ------------------ ------------------ 61.4/120.8 kB 544.7 kB/s eta 0:00:01\n",
      "     ------------------------------------ 120.8/120.8 kB 784.1 kB/s eta 0:00:00\n",
      "  Installing build dependencies: started\n",
      "  Installing build dependencies: finished with status 'done'\n",
      "  Getting requirements to build wheel: started\n",
      "  Getting requirements to build wheel: finished with status 'done'\n",
      "  Preparing metadata (pyproject.toml): started\n",
      "  Preparing metadata (pyproject.toml): finished with status 'done'\n",
      "Building wheels for collected packages: pygraphviz\n",
      "  Building wheel for pygraphviz (pyproject.toml): started\n",
      "  Building wheel for pygraphviz (pyproject.toml): finished with status 'error'\n",
      "Failed to build pygraphviz\n"
     ]
    },
    {
     "name": "stderr",
     "output_type": "stream",
     "text": [
      "  error: subprocess-exited-with-error\n",
      "  \n",
      "  × Building wheel for pygraphviz (pyproject.toml) did not run successfully.\n",
      "  │ exit code: 1\n",
      "  ╰─> [48 lines of output]\n",
      "      running bdist_wheel\n",
      "      running build\n",
      "      running build_py\n",
      "      creating build\n",
      "      creating build\\lib.win-amd64-cpython-39\n",
      "      creating build\\lib.win-amd64-cpython-39\\pygraphviz\n",
      "      copying pygraphviz\\agraph.py -> build\\lib.win-amd64-cpython-39\\pygraphviz\n",
      "      copying pygraphviz\\graphviz.py -> build\\lib.win-amd64-cpython-39\\pygraphviz\n",
      "      copying pygraphviz\\scraper.py -> build\\lib.win-amd64-cpython-39\\pygraphviz\n",
      "      copying pygraphviz\\testing.py -> build\\lib.win-amd64-cpython-39\\pygraphviz\n",
      "      copying pygraphviz\\__init__.py -> build\\lib.win-amd64-cpython-39\\pygraphviz\n",
      "      creating build\\lib.win-amd64-cpython-39\\pygraphviz\\tests\n",
      "      copying pygraphviz\\tests\\test_attribute_defaults.py -> build\\lib.win-amd64-cpython-39\\pygraphviz\\tests\n",
      "      copying pygraphviz\\tests\\test_clear.py -> build\\lib.win-amd64-cpython-39\\pygraphviz\\tests\n",
      "      copying pygraphviz\\tests\\test_close.py -> build\\lib.win-amd64-cpython-39\\pygraphviz\\tests\n",
      "      copying pygraphviz\\tests\\test_drawing.py -> build\\lib.win-amd64-cpython-39\\pygraphviz\\tests\n",
      "      copying pygraphviz\\tests\\test_edge_attributes.py -> build\\lib.win-amd64-cpython-39\\pygraphviz\\tests\n",
      "      copying pygraphviz\\tests\\test_graph.py -> build\\lib.win-amd64-cpython-39\\pygraphviz\\tests\n",
      "      copying pygraphviz\\tests\\test_html.py -> build\\lib.win-amd64-cpython-39\\pygraphviz\\tests\n",
      "      copying pygraphviz\\tests\\test_layout.py -> build\\lib.win-amd64-cpython-39\\pygraphviz\\tests\n",
      "      copying pygraphviz\\tests\\test_node_attributes.py -> build\\lib.win-amd64-cpython-39\\pygraphviz\\tests\n",
      "      copying pygraphviz\\tests\\test_readwrite.py -> build\\lib.win-amd64-cpython-39\\pygraphviz\\tests\n",
      "      copying pygraphviz\\tests\\test_repr_mimebundle.py -> build\\lib.win-amd64-cpython-39\\pygraphviz\\tests\n",
      "      copying pygraphviz\\tests\\test_scraper.py -> build\\lib.win-amd64-cpython-39\\pygraphviz\\tests\n",
      "      copying pygraphviz\\tests\\test_string.py -> build\\lib.win-amd64-cpython-39\\pygraphviz\\tests\n",
      "      copying pygraphviz\\tests\\test_subgraph.py -> build\\lib.win-amd64-cpython-39\\pygraphviz\\tests\n",
      "      copying pygraphviz\\tests\\test_unicode.py -> build\\lib.win-amd64-cpython-39\\pygraphviz\\tests\n",
      "      copying pygraphviz\\tests\\__init__.py -> build\\lib.win-amd64-cpython-39\\pygraphviz\\tests\n",
      "      running egg_info\n",
      "      writing pygraphviz.egg-info\\PKG-INFO\n",
      "      writing dependency_links to pygraphviz.egg-info\\dependency_links.txt\n",
      "      writing top-level names to pygraphviz.egg-info\\top_level.txt\n",
      "      reading manifest file 'pygraphviz.egg-info\\SOURCES.txt'\n",
      "      reading manifest template 'MANIFEST.in'\n",
      "      warning: no files found matching '*.png' under directory 'doc'\n",
      "      warning: no files found matching '*.txt' under directory 'doc'\n",
      "      warning: no files found matching '*.css' under directory 'doc'\n",
      "      warning: no previously-included files matching '*~' found anywhere in distribution\n",
      "      warning: no previously-included files matching '*.pyc' found anywhere in distribution\n",
      "      warning: no previously-included files matching '.svn' found anywhere in distribution\n",
      "      no previously-included directories found matching 'doc\\build'\n",
      "      adding license file 'LICENSE'\n",
      "      writing manifest file 'pygraphviz.egg-info\\SOURCES.txt'\n",
      "      copying pygraphviz\\graphviz.i -> build\\lib.win-amd64-cpython-39\\pygraphviz\n",
      "      copying pygraphviz\\graphviz_wrap.c -> build\\lib.win-amd64-cpython-39\\pygraphviz\n",
      "      running build_ext\n",
      "      building 'pygraphviz._graphviz' extension\n",
      "      error: Microsoft Visual C++ 14.0 or greater is required. Get it with \"Microsoft C++ Build Tools\": https://visualstudio.microsoft.com/visual-cpp-build-tools/\n",
      "      [end of output]\n",
      "  \n",
      "  note: This error originates from a subprocess, and is likely not a problem with pip.\n",
      "  ERROR: Failed building wheel for pygraphviz\n",
      "ERROR: Could not build wheels for pygraphviz, which is required to install pyproject.toml-based projects\n"
     ]
    }
   ],
   "source": [
    "!pip install pygraphviz"
   ]
  },
  {
   "cell_type": "code",
   "execution_count": null,
   "metadata": {},
   "outputs": [],
   "source": []
  },
  {
   "cell_type": "code",
   "execution_count": null,
   "metadata": {},
   "outputs": [],
   "source": []
  },
  {
   "cell_type": "code",
   "execution_count": 83,
   "metadata": {},
   "outputs": [],
   "source": [
    "# def rag(query, retrieved_documents, model=\"gpt-4-32k\"):\n",
    "#     information = \"\\n\\n\".join(retrieved_documents)\n",
    "\n",
    "#     messages = [\n",
    "#         {\n",
    "#             \"role\": \"system\",\n",
    "#             \"content\": \"You are a helpful expert in medical field. Your users are asking questions contained in the medical tests list provided.\"\n",
    "#             \"You will be given data about patient and related to the information from medical tests list . Your task is to ask neccesary questions to the patient to get to a conclusion and suggest him some tests strictly from the information given.Output the questions in comma seperated values\"\n",
    "#         },\n",
    "#         {\"role\": \"user\", \"content\": f\"Question: {query}. \\n Information: {information}\"}\n",
    "#     ]\n",
    "    \n",
    "#     response = client.chat.completions.create(\n",
    "#         model=model,\n",
    "#         messages=messages,\n",
    "#     )\n",
    "#     content = response.choices[0].message.content\n",
    "#     return content\n",
    "\n",
    "\n",
    "messages = [\n",
    "    {\n",
    "        'role':'system',\n",
    "        'content':end_prompt\n",
    "        \n",
    "    },\n",
    "    {\n",
    "        'role':'user',\n",
    "        'content':\"patient_description:'A 69 year old female with difficulty in breathing' .\\n list: {retrieved_documents}\"\n",
    "        \n",
    "    }\n",
    "    \n",
    "    \n",
    "]"
   ]
  },
  {
   "cell_type": "code",
   "execution_count": null,
   "metadata": {},
   "outputs": [],
   "source": []
  },
  {
   "cell_type": "code",
   "execution_count": 84,
   "metadata": {},
   "outputs": [
    {
     "name": "stdout",
     "output_type": "stream",
     "text": [
      "0\n"
     ]
    }
   ],
   "source": [
    "response = client.chat.completions.create(\n",
    "        model=\"gpt-4-32k\",\n",
    "        messages=messages,\n",
    "    )\n",
    "content = response.choices[0].message.content\n",
    "print(content)"
   ]
  },
  {
   "cell_type": "code",
   "execution_count": 35,
   "metadata": {},
   "outputs": [],
   "source": [
    "def test(state:AgentState):\n",
    "    \n",
    "    x = state['answers']\n",
    "    x.append('1')\n",
    "    return {'answers':x}"
   ]
  },
  {
   "cell_type": "code",
   "execution_count": 36,
   "metadata": {},
   "outputs": [],
   "source": [
    "s = AgentState(\n",
    "    answers=[]\n",
    "    \n",
    ")"
   ]
  },
  {
   "cell_type": "code",
   "execution_count": 37,
   "metadata": {},
   "outputs": [
    {
     "data": {
      "text/plain": [
       "{'answers': ['1']}"
      ]
     },
     "execution_count": 37,
     "metadata": {},
     "output_type": "execute_result"
    }
   ],
   "source": [
    "test(s)"
   ]
  },
  {
   "cell_type": "code",
   "execution_count": null,
   "metadata": {},
   "outputs": [],
   "source": [
    "class AgentState(TypedDict):\n",
    "    patient_des:List[str]\n",
    "    questions:List[str]\n",
    "    answers:List[str]\n",
    "    content:str\n",
    "    boolean:int\n",
    "def patient_des_node(state:AgentState):\n",
    "    pd = ''.join(state['patient_des'])\n",
    "    content = state['content']\n",
    "    messages = [\n",
    "        {\n",
    "            'role':'system',\n",
    "            'content':patient_prompt\n",
    "            \n",
    "             \n",
    "        },\n",
    "        {\n",
    "            'role':'user',\n",
    "            'content':f'patient_description:{pd} .\\n medical_tests:{content}'\n",
    "        }\n",
    "    ]\n",
    "    response = client.chat.completions.create(\n",
    "        model=model,\n",
    "        messages=messages\n",
    "        \n",
    "    )\n",
    "    content = response.choices[0].message.content\n",
    "    x = state['questions']  or []\n",
    "    \n",
    "    x.append(content)\n",
    "    return {'questions':x}\n",
    "def question_ans(state:AgentState):\n",
    "    que = state['questions'][-1]\n",
    "    ans = input(que)\n",
    "    cont = state['content']\n",
    "    messages = [\n",
    "        {\n",
    "            'role':'system',\n",
    "            'content':deciding_prompt\n",
    "            \n",
    "        },\n",
    "        {\n",
    "            'role':'user',\n",
    "            'content':f'question:{que} .\\n answer:{ans} .\\n info: {cont}'\n",
    "        }\n",
    "    \n",
    "    ]\n",
    "    response = client.chat.completions.create(\n",
    "        model=model,\n",
    "        messages=messages\n",
    "        \n",
    "    )\n",
    "    content = response.choices[0].message.content\n",
    "    x = state['answers']\n",
    "    x.append(content)\n",
    "    return {'answers':content}\n",
    "def end_node(state:AgentState):\n",
    "    p = state['patient_des']\n",
    "    l = state['content']\n",
    "    messages = [\n",
    "        {\n",
    "            'role':'system',\n",
    "            'content': end_prompt\n",
    "        },\n",
    "        {\n",
    "            'role':'user',\n",
    "            'content':f'patient_description:{p} .\\n list:{l}'\n",
    "        }\n",
    "        \n",
    "    ]\n",
    "    response = client.chat.completions.create(\n",
    "        model=model,\n",
    "        messages=messages\n",
    "        \n",
    "    )\n",
    "    content = response.choices[0].message.content\n",
    "    if content==0:\n",
    "       print(state['boolean'])\n",
    "       return {'boolean':0}\n",
    "    else:\n",
    "        answers = state['answers']\n",
    "        \n",
    "        return {'boolean':1 }\n",
    "    \n",
    "def check(state:AgentState):\n",
    "    if state['boolean']==0:\n",
    "        return 0\n",
    "    else:\n",
    "        return 1    \n",
    "    \n",
    "builder = StateGraph(AgentState)\n",
    "builder.add_node('patient_description',patient_des_node)\n",
    "builder.add_node('ques_ans',question_ans)\n",
    "builder.add_node('end_node',end_node)\n",
    "builder.add_node('check',check)\n",
    "builder.set_entry_point('patient_description')\n",
    "builder.add_conditional_edges(\n",
    "    'check',\n",
    "    check,\n",
    "    {1:END,0:'ques_ans'}\n",
    "    \n",
    "    \n",
    ")\n",
    "builder.add_edge('patient_description','ques_ans')\n",
    "builder.add_edge('ques_ans','end_node')\n",
    "builder.add_edge('end_node','check')\n",
    "graph = builder.compile(checkpointer=memory)\n",
    "thread = {\"configurable\": {\"thread_id\": \"1\"}}\n",
    "for s in graph.stream({\n",
    "    'patient_des':['A 26 year old female with short term memory loss'],\n",
    "    'content':retrieved_documents,\n",
    "    'questions':[],\n",
    "    'answers':[],\n",
    "    \n",
    "    'boolean':0\n",
    "    \n",
    "}, thread):\n",
    "    print(s)\n",
    "# patient_des:List[str]\n",
    "#     questions:List[str]\n",
    "#     answers:List[str]\n",
    "#     content:str\n",
    "#     boolean:int"
   ]
  },
  {
   "cell_type": "code",
   "execution_count": 74,
   "metadata": {},
   "outputs": [
    {
     "name": "stdout",
     "output_type": "stream",
     "text": [
      "{'patient_description': {'questions': ['\"Could you describe the extent of your short term memory loss? Do you find it impacting your daily activities and is there a pattern to it?\"']}}\n",
      "{'ques_ans': {'answers': ['The patient experiences short term memory loss, impacting his daily activities. However, the information given does not immediately suggest any medical tests or conditions directly associated with this symptom. Further observation, information or consulting with a healthcare professional would be advisable.']}}\n",
      "{'end_node': {'boolean': 0}}\n"
     ]
    },
    {
     "ename": "InvalidUpdateError",
     "evalue": "Must write to at least one of ['patient_des', 'questions', 'answers', 'content', 'boolean']",
     "output_type": "error",
     "traceback": [
      "\u001b[1;31m---------------------------------------------------------------------------\u001b[0m",
      "\u001b[1;31mInvalidUpdateError\u001b[0m                        Traceback (most recent call last)",
      "Cell \u001b[1;32mIn[74], line 102\u001b[0m\n\u001b[0;32m    100\u001b[0m graph \u001b[38;5;241m=\u001b[39m builder\u001b[38;5;241m.\u001b[39mcompile(checkpointer\u001b[38;5;241m=\u001b[39mmemory)\n\u001b[0;32m    101\u001b[0m thread \u001b[38;5;241m=\u001b[39m {\u001b[38;5;124m\"\u001b[39m\u001b[38;5;124mconfigurable\u001b[39m\u001b[38;5;124m\"\u001b[39m: {\u001b[38;5;124m\"\u001b[39m\u001b[38;5;124mthread_id\u001b[39m\u001b[38;5;124m\"\u001b[39m: \u001b[38;5;124m\"\u001b[39m\u001b[38;5;124m1\u001b[39m\u001b[38;5;124m\"\u001b[39m}}\n\u001b[1;32m--> 102\u001b[0m \u001b[38;5;28;01mfor\u001b[39;00m s \u001b[38;5;129;01min\u001b[39;00m graph\u001b[38;5;241m.\u001b[39mstream({\n\u001b[0;32m    103\u001b[0m     \u001b[38;5;124m'\u001b[39m\u001b[38;5;124mpatient_des\u001b[39m\u001b[38;5;124m'\u001b[39m: [\u001b[38;5;124m'\u001b[39m\u001b[38;5;124mA 26 year old female with short term memory loss\u001b[39m\u001b[38;5;124m'\u001b[39m],\n\u001b[0;32m    104\u001b[0m     \u001b[38;5;124m'\u001b[39m\u001b[38;5;124mcontent\u001b[39m\u001b[38;5;124m'\u001b[39m: retrieved_documents,\n\u001b[0;32m    105\u001b[0m     \u001b[38;5;124m'\u001b[39m\u001b[38;5;124mquestions\u001b[39m\u001b[38;5;124m'\u001b[39m: [],\n\u001b[0;32m    106\u001b[0m     \u001b[38;5;124m'\u001b[39m\u001b[38;5;124manswers\u001b[39m\u001b[38;5;124m'\u001b[39m: [],\n\u001b[0;32m    107\u001b[0m     \u001b[38;5;124m'\u001b[39m\u001b[38;5;124mboolean\u001b[39m\u001b[38;5;124m'\u001b[39m: \u001b[38;5;241m0\u001b[39m\n\u001b[0;32m    108\u001b[0m }, thread):\n\u001b[0;32m    109\u001b[0m     \u001b[38;5;28mprint\u001b[39m(s)\n",
      "File \u001b[1;32mc:\\Users\\admin\\Desktop\\navikenz\\rag\\myenv\\lib\\site-packages\\langgraph\\pregel\\__init__.py:983\u001b[0m, in \u001b[0;36mPregel.stream\u001b[1;34m(self, input, config, stream_mode, output_keys, input_keys, interrupt_before, interrupt_after, debug)\u001b[0m\n\u001b[0;32m    980\u001b[0m         \u001b[38;5;28;01mdel\u001b[39;00m fut, task\n\u001b[0;32m    982\u001b[0m \u001b[38;5;66;03m# panic on failure or timeout\u001b[39;00m\n\u001b[1;32m--> 983\u001b[0m \u001b[43m_panic_or_proceed\u001b[49m\u001b[43m(\u001b[49m\u001b[43mdone\u001b[49m\u001b[43m,\u001b[49m\u001b[43m \u001b[49m\u001b[43minflight\u001b[49m\u001b[43m,\u001b[49m\u001b[43m \u001b[49m\u001b[43mstep\u001b[49m\u001b[43m)\u001b[49m\n\u001b[0;32m    984\u001b[0m \u001b[38;5;66;03m# don't keep futures around in memory longer than needed\u001b[39;00m\n\u001b[0;32m    985\u001b[0m \u001b[38;5;28;01mdel\u001b[39;00m done, inflight, futures\n",
      "File \u001b[1;32mc:\\Users\\admin\\Desktop\\navikenz\\rag\\myenv\\lib\\site-packages\\langgraph\\pregel\\__init__.py:1537\u001b[0m, in \u001b[0;36m_panic_or_proceed\u001b[1;34m(done, inflight, step)\u001b[0m\n\u001b[0;32m   1535\u001b[0m             inflight\u001b[38;5;241m.\u001b[39mpop()\u001b[38;5;241m.\u001b[39mcancel()\n\u001b[0;32m   1536\u001b[0m         \u001b[38;5;66;03m# raise the exception\u001b[39;00m\n\u001b[1;32m-> 1537\u001b[0m         \u001b[38;5;28;01mraise\u001b[39;00m exc\n\u001b[0;32m   1539\u001b[0m \u001b[38;5;28;01mif\u001b[39;00m inflight:\n\u001b[0;32m   1540\u001b[0m     \u001b[38;5;66;03m# if we got here means we timed out\u001b[39;00m\n\u001b[0;32m   1541\u001b[0m     \u001b[38;5;28;01mwhile\u001b[39;00m inflight:\n\u001b[0;32m   1542\u001b[0m         \u001b[38;5;66;03m# cancel all pending tasks\u001b[39;00m\n",
      "File \u001b[1;32m~\\.pyenv\\pyenv-win\\versions\\3.9.1\\lib\\concurrent\\futures\\thread.py:52\u001b[0m, in \u001b[0;36m_WorkItem.run\u001b[1;34m(self)\u001b[0m\n\u001b[0;32m     49\u001b[0m     \u001b[38;5;28;01mreturn\u001b[39;00m\n\u001b[0;32m     51\u001b[0m \u001b[38;5;28;01mtry\u001b[39;00m:\n\u001b[1;32m---> 52\u001b[0m     result \u001b[38;5;241m=\u001b[39m \u001b[38;5;28mself\u001b[39m\u001b[38;5;241m.\u001b[39mfn(\u001b[38;5;241m*\u001b[39m\u001b[38;5;28mself\u001b[39m\u001b[38;5;241m.\u001b[39margs, \u001b[38;5;241m*\u001b[39m\u001b[38;5;241m*\u001b[39m\u001b[38;5;28mself\u001b[39m\u001b[38;5;241m.\u001b[39mkwargs)\n\u001b[0;32m     53\u001b[0m \u001b[38;5;28;01mexcept\u001b[39;00m \u001b[38;5;167;01mBaseException\u001b[39;00m \u001b[38;5;28;01mas\u001b[39;00m exc:\n\u001b[0;32m     54\u001b[0m     \u001b[38;5;28mself\u001b[39m\u001b[38;5;241m.\u001b[39mfuture\u001b[38;5;241m.\u001b[39mset_exception(exc)\n",
      "File \u001b[1;32mc:\\Users\\admin\\Desktop\\navikenz\\rag\\myenv\\lib\\site-packages\\langgraph\\pregel\\retry.py:72\u001b[0m, in \u001b[0;36mrun_with_retry\u001b[1;34m(task, retry_policy)\u001b[0m\n\u001b[0;32m     70\u001b[0m task\u001b[38;5;241m.\u001b[39mwrites\u001b[38;5;241m.\u001b[39mclear()\n\u001b[0;32m     71\u001b[0m \u001b[38;5;66;03m# run the task\u001b[39;00m\n\u001b[1;32m---> 72\u001b[0m \u001b[43mtask\u001b[49m\u001b[38;5;241;43m.\u001b[39;49m\u001b[43mproc\u001b[49m\u001b[38;5;241;43m.\u001b[39;49m\u001b[43minvoke\u001b[49m\u001b[43m(\u001b[49m\u001b[43mtask\u001b[49m\u001b[38;5;241;43m.\u001b[39;49m\u001b[43minput\u001b[49m\u001b[43m,\u001b[49m\u001b[43m \u001b[49m\u001b[43mtask\u001b[49m\u001b[38;5;241;43m.\u001b[39;49m\u001b[43mconfig\u001b[49m\u001b[43m)\u001b[49m\n\u001b[0;32m     73\u001b[0m \u001b[38;5;66;03m# if successful, end\u001b[39;00m\n\u001b[0;32m     74\u001b[0m \u001b[38;5;28;01mbreak\u001b[39;00m\n",
      "File \u001b[1;32mc:\\Users\\admin\\Desktop\\navikenz\\rag\\myenv\\lib\\site-packages\\langchain_core\\runnables\\base.py:2504\u001b[0m, in \u001b[0;36mRunnableSequence.invoke\u001b[1;34m(self, input, config, **kwargs)\u001b[0m\n\u001b[0;32m   2502\u001b[0m             \u001b[38;5;28minput\u001b[39m \u001b[38;5;241m=\u001b[39m step\u001b[38;5;241m.\u001b[39minvoke(\u001b[38;5;28minput\u001b[39m, config, \u001b[38;5;241m*\u001b[39m\u001b[38;5;241m*\u001b[39mkwargs)\n\u001b[0;32m   2503\u001b[0m         \u001b[38;5;28;01melse\u001b[39;00m:\n\u001b[1;32m-> 2504\u001b[0m             \u001b[38;5;28minput\u001b[39m \u001b[38;5;241m=\u001b[39m \u001b[43mstep\u001b[49m\u001b[38;5;241;43m.\u001b[39;49m\u001b[43minvoke\u001b[49m\u001b[43m(\u001b[49m\u001b[38;5;28;43minput\u001b[39;49m\u001b[43m,\u001b[49m\u001b[43m \u001b[49m\u001b[43mconfig\u001b[49m\u001b[43m)\u001b[49m\n\u001b[0;32m   2505\u001b[0m \u001b[38;5;66;03m# finish the root run\u001b[39;00m\n\u001b[0;32m   2506\u001b[0m \u001b[38;5;28;01mexcept\u001b[39;00m \u001b[38;5;167;01mBaseException\u001b[39;00m \u001b[38;5;28;01mas\u001b[39;00m e:\n",
      "File \u001b[1;32mc:\\Users\\admin\\Desktop\\navikenz\\rag\\myenv\\lib\\site-packages\\langgraph\\utils.py:86\u001b[0m, in \u001b[0;36mRunnableCallable.invoke\u001b[1;34m(self, input, config, **kwargs)\u001b[0m\n\u001b[0;32m     84\u001b[0m kwargs \u001b[38;5;241m=\u001b[39m {\u001b[38;5;241m*\u001b[39m\u001b[38;5;241m*\u001b[39m\u001b[38;5;28mself\u001b[39m\u001b[38;5;241m.\u001b[39mkwargs, \u001b[38;5;241m*\u001b[39m\u001b[38;5;241m*\u001b[39mkwargs}\n\u001b[0;32m     85\u001b[0m \u001b[38;5;28;01mif\u001b[39;00m \u001b[38;5;28mself\u001b[39m\u001b[38;5;241m.\u001b[39mtrace:\n\u001b[1;32m---> 86\u001b[0m     ret \u001b[38;5;241m=\u001b[39m \u001b[38;5;28mself\u001b[39m\u001b[38;5;241m.\u001b[39m_call_with_config(\n\u001b[0;32m     87\u001b[0m         \u001b[38;5;28mself\u001b[39m\u001b[38;5;241m.\u001b[39mfunc, \u001b[38;5;28minput\u001b[39m, merge_configs(\u001b[38;5;28mself\u001b[39m\u001b[38;5;241m.\u001b[39mconfig, config), \u001b[38;5;241m*\u001b[39m\u001b[38;5;241m*\u001b[39mkwargs\n\u001b[0;32m     88\u001b[0m     )\n\u001b[0;32m     89\u001b[0m \u001b[38;5;28;01melse\u001b[39;00m:\n\u001b[0;32m     90\u001b[0m     config \u001b[38;5;241m=\u001b[39m merge_configs(\u001b[38;5;28mself\u001b[39m\u001b[38;5;241m.\u001b[39mconfig, config)\n",
      "File \u001b[1;32mc:\\Users\\admin\\Desktop\\navikenz\\rag\\myenv\\lib\\site-packages\\langchain_core\\runnables\\base.py:1598\u001b[0m, in \u001b[0;36mRunnable._call_with_config\u001b[1;34m(self, func, input, config, run_type, **kwargs)\u001b[0m\n\u001b[0;32m   1594\u001b[0m     context \u001b[38;5;241m=\u001b[39m copy_context()\n\u001b[0;32m   1595\u001b[0m     context\u001b[38;5;241m.\u001b[39mrun(_set_config_context, child_config)\n\u001b[0;32m   1596\u001b[0m     output \u001b[38;5;241m=\u001b[39m cast(\n\u001b[0;32m   1597\u001b[0m         Output,\n\u001b[1;32m-> 1598\u001b[0m         context\u001b[38;5;241m.\u001b[39mrun(\n\u001b[0;32m   1599\u001b[0m             call_func_with_variable_args,  \u001b[38;5;66;03m# type: ignore[arg-type]\u001b[39;00m\n\u001b[0;32m   1600\u001b[0m             func,  \u001b[38;5;66;03m# type: ignore[arg-type]\u001b[39;00m\n\u001b[0;32m   1601\u001b[0m             \u001b[38;5;28minput\u001b[39m,  \u001b[38;5;66;03m# type: ignore[arg-type]\u001b[39;00m\n\u001b[0;32m   1602\u001b[0m             config,\n\u001b[0;32m   1603\u001b[0m             run_manager,\n\u001b[0;32m   1604\u001b[0m             \u001b[38;5;241m*\u001b[39m\u001b[38;5;241m*\u001b[39mkwargs,\n\u001b[0;32m   1605\u001b[0m         ),\n\u001b[0;32m   1606\u001b[0m     )\n\u001b[0;32m   1607\u001b[0m \u001b[38;5;28;01mexcept\u001b[39;00m \u001b[38;5;167;01mBaseException\u001b[39;00m \u001b[38;5;28;01mas\u001b[39;00m e:\n\u001b[0;32m   1608\u001b[0m     run_manager\u001b[38;5;241m.\u001b[39mon_chain_error(e)\n",
      "File \u001b[1;32mc:\\Users\\admin\\Desktop\\navikenz\\rag\\myenv\\lib\\site-packages\\langchain_core\\runnables\\config.py:380\u001b[0m, in \u001b[0;36mcall_func_with_variable_args\u001b[1;34m(func, input, config, run_manager, **kwargs)\u001b[0m\n\u001b[0;32m    378\u001b[0m \u001b[38;5;28;01mif\u001b[39;00m run_manager \u001b[38;5;129;01mis\u001b[39;00m \u001b[38;5;129;01mnot\u001b[39;00m \u001b[38;5;28;01mNone\u001b[39;00m \u001b[38;5;129;01mand\u001b[39;00m accepts_run_manager(func):\n\u001b[0;32m    379\u001b[0m     kwargs[\u001b[38;5;124m\"\u001b[39m\u001b[38;5;124mrun_manager\u001b[39m\u001b[38;5;124m\"\u001b[39m] \u001b[38;5;241m=\u001b[39m run_manager\n\u001b[1;32m--> 380\u001b[0m \u001b[38;5;28;01mreturn\u001b[39;00m func(\u001b[38;5;28minput\u001b[39m, \u001b[38;5;241m*\u001b[39m\u001b[38;5;241m*\u001b[39mkwargs)\n",
      "File \u001b[1;32mc:\\Users\\admin\\Desktop\\navikenz\\rag\\myenv\\lib\\site-packages\\langgraph\\pregel\\write.py:107\u001b[0m, in \u001b[0;36mChannelWrite._write\u001b[1;34m(self, input, config)\u001b[0m\n\u001b[0;32m    101\u001b[0m values \u001b[38;5;241m=\u001b[39m [\n\u001b[0;32m    102\u001b[0m     (write\u001b[38;5;241m.\u001b[39mchannel, val)\n\u001b[0;32m    103\u001b[0m     \u001b[38;5;28;01mfor\u001b[39;00m val, write \u001b[38;5;129;01min\u001b[39;00m \u001b[38;5;28mzip\u001b[39m(values, entries)\n\u001b[0;32m    104\u001b[0m     \u001b[38;5;28;01mif\u001b[39;00m \u001b[38;5;129;01mnot\u001b[39;00m write\u001b[38;5;241m.\u001b[39mskip_none \u001b[38;5;129;01mor\u001b[39;00m val \u001b[38;5;129;01mis\u001b[39;00m \u001b[38;5;129;01mnot\u001b[39;00m \u001b[38;5;28;01mNone\u001b[39;00m\n\u001b[0;32m    105\u001b[0m ]\n\u001b[0;32m    106\u001b[0m \u001b[38;5;66;03m# write packets and values\u001b[39;00m\n\u001b[1;32m--> 107\u001b[0m \u001b[38;5;28;43mself\u001b[39;49m\u001b[38;5;241;43m.\u001b[39;49m\u001b[43mdo_write\u001b[49m\u001b[43m(\u001b[49m\n\u001b[0;32m    108\u001b[0m \u001b[43m    \u001b[49m\u001b[43mconfig\u001b[49m\u001b[43m,\u001b[49m\n\u001b[0;32m    109\u001b[0m \u001b[43m    \u001b[49m\u001b[43mwrites\u001b[49m\u001b[43m \u001b[49m\u001b[38;5;241;43m+\u001b[39;49m\u001b[43m \u001b[49m\u001b[43mvalues\u001b[49m\u001b[43m,\u001b[49m\n\u001b[0;32m    110\u001b[0m \u001b[43m    \u001b[49m\u001b[38;5;28;43mself\u001b[39;49m\u001b[38;5;241;43m.\u001b[39;49m\u001b[43mrequire_at_least_one_of\u001b[49m\u001b[43m \u001b[49m\u001b[38;5;28;43;01mif\u001b[39;49;00m\u001b[43m \u001b[49m\u001b[38;5;28;43minput\u001b[39;49m\u001b[43m \u001b[49m\u001b[38;5;129;43;01mis\u001b[39;49;00m\u001b[43m \u001b[49m\u001b[38;5;129;43;01mnot\u001b[39;49;00m\u001b[43m \u001b[49m\u001b[38;5;28;43;01mNone\u001b[39;49;00m\u001b[43m \u001b[49m\u001b[38;5;28;43;01melse\u001b[39;49;00m\u001b[43m \u001b[49m\u001b[38;5;28;43;01mNone\u001b[39;49;00m\u001b[43m,\u001b[49m\n\u001b[0;32m    111\u001b[0m \u001b[43m\u001b[49m\u001b[43m)\u001b[49m\n\u001b[0;32m    112\u001b[0m \u001b[38;5;28;01mreturn\u001b[39;00m \u001b[38;5;28minput\u001b[39m\n",
      "File \u001b[1;32mc:\\Users\\admin\\Desktop\\navikenz\\rag\\myenv\\lib\\site-packages\\langgraph\\pregel\\write.py:157\u001b[0m, in \u001b[0;36mChannelWrite.do_write\u001b[1;34m(config, values, require_at_least_one_of)\u001b[0m\n\u001b[0;32m    155\u001b[0m \u001b[38;5;28;01mif\u001b[39;00m require_at_least_one_of \u001b[38;5;129;01mis\u001b[39;00m \u001b[38;5;129;01mnot\u001b[39;00m \u001b[38;5;28;01mNone\u001b[39;00m:\n\u001b[0;32m    156\u001b[0m     \u001b[38;5;28;01mif\u001b[39;00m \u001b[38;5;129;01mnot\u001b[39;00m {chan \u001b[38;5;28;01mfor\u001b[39;00m chan, _ \u001b[38;5;129;01min\u001b[39;00m filtered} \u001b[38;5;241m&\u001b[39m \u001b[38;5;28mset\u001b[39m(require_at_least_one_of):\n\u001b[1;32m--> 157\u001b[0m         \u001b[38;5;28;01mraise\u001b[39;00m InvalidUpdateError(\n\u001b[0;32m    158\u001b[0m             \u001b[38;5;124mf\u001b[39m\u001b[38;5;124m\"\u001b[39m\u001b[38;5;124mMust write to at least one of \u001b[39m\u001b[38;5;132;01m{\u001b[39;00mrequire_at_least_one_of\u001b[38;5;132;01m}\u001b[39;00m\u001b[38;5;124m\"\u001b[39m\n\u001b[0;32m    159\u001b[0m         )\n\u001b[0;32m    160\u001b[0m write: TYPE_SEND \u001b[38;5;241m=\u001b[39m config[\u001b[38;5;124m\"\u001b[39m\u001b[38;5;124mconfigurable\u001b[39m\u001b[38;5;124m\"\u001b[39m][CONFIG_KEY_SEND]\n\u001b[0;32m    161\u001b[0m write(filtered)\n",
      "\u001b[1;31mInvalidUpdateError\u001b[0m: Must write to at least one of ['patient_des', 'questions', 'answers', 'content', 'boolean']"
     ]
    }
   ],
   "source": [
    "from typing import List, TypedDict\n",
    "\n",
    "class AgentState(TypedDict):\n",
    "    patient_des: List[str]\n",
    "    questions: List[str]\n",
    "    answers: List[str]\n",
    "    content: str\n",
    "    boolean: int\n",
    "\n",
    "def patient_des_node(state: AgentState):\n",
    "    pd = ' '.join(state['patient_des'])  # Correct concatenation\n",
    "    content = state['content']\n",
    "    messages = [\n",
    "        {\n",
    "            'role': 'system',\n",
    "            'content': patient_prompt\n",
    "        },\n",
    "        {\n",
    "            'role': 'user',\n",
    "            'content': f'patient_description: {pd}.\\nmedical_tests: {content}'\n",
    "        }\n",
    "    ]\n",
    "    response = client.chat.completions.create(\n",
    "        model=model,\n",
    "        messages=messages\n",
    "    )\n",
    "    content = response.choices[0].message.content  # Access content with dot notation\n",
    "    questions = state['questions'] or []\n",
    "    questions.append(content)\n",
    "    return {'questions': questions}\n",
    "\n",
    "def question_ans(state: AgentState):\n",
    "    que = state['questions'][-1]\n",
    "    # Simulate an answer input, replace with actual input method\n",
    "    ans = input(que)\n",
    "    cont = state['content']\n",
    "    messages = [\n",
    "        {\n",
    "            'role': 'system',\n",
    "            'content': deciding_prompt\n",
    "        },\n",
    "        {\n",
    "            'role': 'user',\n",
    "            'content': f'question: {que}.\\nanswer: {ans}.\\ninfo: {cont}'\n",
    "        }\n",
    "    ]\n",
    "    response = client.chat.completions.create(\n",
    "        model=model,\n",
    "        messages=messages\n",
    "    )\n",
    "    content = response.choices[0].message.content  # Access content with dot notation\n",
    "    answers = state['answers']\n",
    "    answers.append(content)\n",
    "    return {'answers': answers}\n",
    "\n",
    "def end_node(state: AgentState):\n",
    "    p = ' '.join(state['patient_des'])\n",
    "    l = state['content']\n",
    "    messages = [\n",
    "        {\n",
    "            'role': 'system',\n",
    "            'content': end_prompt\n",
    "        },\n",
    "        {\n",
    "            'role': 'user',\n",
    "            'content': f'patient_description: {p}.\\nlist: {l}'\n",
    "        }\n",
    "    ]\n",
    "    response = client.chat.completions.create(\n",
    "        model=model,\n",
    "        messages=messages\n",
    "    )\n",
    "    content = response.choices[0].message.content  # Access content with dot notation\n",
    "    if content == '0':\n",
    "        return {'boolean': 0}\n",
    "    else:\n",
    "        return {'boolean': 1}\n",
    "\n",
    "def check(state: AgentState):\n",
    "    if state['boolean'] == 0:\n",
    "        return {'next_node': 0}  # Wrapped in dictionary\n",
    "    else:\n",
    "        return {'next_node': 1}  # Wrapped in dictionary\n",
    "\n",
    "# Assuming StateGraph and related methods are defined elsewhere\n",
    "builder = StateGraph(AgentState)\n",
    "builder.add_node('patient_description', patient_des_node)\n",
    "builder.add_node('ques_ans', question_ans)\n",
    "builder.add_node('end_node', end_node)\n",
    "builder.add_node('check', check)\n",
    "builder.set_entry_point('patient_description')\n",
    "builder.add_conditional_edges(\n",
    "    'check',\n",
    "    lambda state: state['next_node'],  # Use the value from 'next_node'\n",
    "    {1: END, 0: 'ques_ans'}\n",
    ")\n",
    "builder.add_edge('patient_description', 'ques_ans')\n",
    "builder.add_edge('ques_ans', 'end_node')\n",
    "builder.add_edge('end_node', 'check')\n",
    "graph = builder.compile(checkpointer=memory)\n",
    "thread = {\"configurable\": {\"thread_id\": \"1\"}}\n",
    "for s in graph.stream({\n",
    "    'patient_des': ['A 26 year old female with short term memory loss'],\n",
    "    'content': retrieved_documents,\n",
    "    'questions': [],\n",
    "    'answers': [],\n",
    "    'boolean': 0\n",
    "}, thread):\n",
    "    print(s)\n"
   ]
  },
  {
   "cell_type": "code",
   "execution_count": 43,
   "metadata": {},
   "outputs": [],
   "source": [
    "thread = {\"configurable\": {\"thread_id\": \"542\"}}\n",
    "s  =  graph.stream({\n",
    "    'patient_des': ['A 69 year old female with difficulty in breathing'],\n",
    "    'content': retrieved_documents,\n",
    "    'questions': ['None'],\n",
    "    'answers': ['None'],\n",
    "    'boolean': 0\n",
    "}, thread)"
   ]
  },
  {
   "cell_type": "code",
   "execution_count": 44,
   "metadata": {},
   "outputs": [
    {
     "name": "stdout",
     "output_type": "stream",
     "text": [
      "Patient_node\n",
      "------------------------\n",
      "{'questions': ['None', 'Considering your symptoms, have you ever experienced severe chest pain, dizziness, fainting, or irregular heartbeats? Additionally, can you share any prior history and frequency of any thyroid disorders, osteoporosis, or cardiovascular diseases in your medical history?']}\n"
     ]
    }
   ],
   "source": [
    "for i in s:\n",
    "    for j in i.values():\n",
    "        print(j)"
   ]
  },
  {
   "cell_type": "code",
   "execution_count": 32,
   "metadata": {},
   "outputs": [
    {
     "data": {
      "text/plain": [
       "{'patient_des': ['A 69 year old female with difficulty in breathing'],\n",
       " 'questions': ['None',\n",
       "  \"With your complaints of difficulty in breathing, can you please describe if you're also experiencing other symptoms such as chest pain, dizziness, irregular heartbeat, constipation, changes in weight or menstrual cycle, or any abnormal changes in your skin and hair?\"],\n",
       " 'answers': ['None'],\n",
       " 'content': ['heart diseaseschest pain, chest tightness, chest pressure and chest discomfort ( angina ) shortness of breathpain in the neck, jaw, throat, upper belly area or backpain, numbness, weakness or coldness in the legs or arms if the blood vessels in those body areas are narrowedchest pain or discomfortdizzinessfainting ( syncope ) or near faintingfluttering in the chestlightheadednessracing heartbeat',\n",
       "  '( tachycardia ) shortness of breathslow heartbeat ( bradycardia ) easily getting short of breath during exercise or activityeasily tiring during exercise or activityswelling of the hands, ankles cholestrol tests : total cholestrol, ldl, hdl, tryglycerides, non hdl cholestrol. hs - crplp ( a ) plasma ceramidesbnptroponin telectrocardiogramechocardiogramtmtosteoporosisback pain, caused by a broken or collapsed',\n",
       "  'hyperthyroidismanxietydifficulty concentratingfatiguefrequent bowel movementsgoiter ( visibly enlarged thyroid gland ) or thyroid noduleshair losshand tremorheat intoleranceincreased appetiteincreased sweatingirregular menstrual periods in womennail changes ( thickness or flaking ) nervousnesspounding or racing heart beat ( palpitations ) restlessnesssleep problemsweight loss ( or weight gain, in some',\n",
       "  'hypothyroidismtiredness. more sensitivity to cold. constipation. dry skin. weight gain. puffy face. hoarse voice. coarse hair and skin. muscle weakness. muscle aches, tenderness and stiffness. menstrual cycles that are heavier than usual or irregular. thinning hair. slowed heart rate, also called bradycardia. depression. memory problems. blood pressurethyroid panel - t3, t4, tshcholestrol',\n",
       "  'bone in the spine. loss of height over time. a stooped posture. a bone that breaks much more easily than expected. bone densitybalpbone panelpcoshormone test fasting cholesterol and triglyceride levels'],\n",
       " 'boolean': 0}"
      ]
     },
     "execution_count": 32,
     "metadata": {},
     "output_type": "execute_result"
    }
   ],
   "source": [
    "graph.get_state(thread).values"
   ]
  },
  {
   "cell_type": "code",
   "execution_count": 45,
   "metadata": {},
   "outputs": [
    {
     "name": "stdout",
     "output_type": "stream",
     "text": [
      "('ques_ans',)\n"
     ]
    }
   ],
   "source": [
    "print(str(graph.get_state(thread).next) )"
   ]
  },
  {
   "cell_type": "code",
   "execution_count": 33,
   "metadata": {},
   "outputs": [],
   "source": [
    "current_values = graph.get_state(thread)"
   ]
  },
  {
   "cell_type": "markdown",
   "metadata": {},
   "source": []
  },
  {
   "cell_type": "code",
   "execution_count": 34,
   "metadata": {},
   "outputs": [
    {
     "data": {
      "text/plain": [
       "StateSnapshot(values={'patient_des': ['A 69 year old female with difficulty in breathing'], 'questions': ['None', \"With your complaints of difficulty in breathing, can you please describe if you're also experiencing other symptoms such as chest pain, dizziness, irregular heartbeat, constipation, changes in weight or menstrual cycle, or any abnormal changes in your skin and hair?\"], 'answers': ['None'], 'content': ['heart diseaseschest pain, chest tightness, chest pressure and chest discomfort ( angina ) shortness of breathpain in the neck, jaw, throat, upper belly area or backpain, numbness, weakness or coldness in the legs or arms if the blood vessels in those body areas are narrowedchest pain or discomfortdizzinessfainting ( syncope ) or near faintingfluttering in the chestlightheadednessracing heartbeat', '( tachycardia ) shortness of breathslow heartbeat ( bradycardia ) easily getting short of breath during exercise or activityeasily tiring during exercise or activityswelling of the hands, ankles cholestrol tests : total cholestrol, ldl, hdl, tryglycerides, non hdl cholestrol. hs - crplp ( a ) plasma ceramidesbnptroponin telectrocardiogramechocardiogramtmtosteoporosisback pain, caused by a broken or collapsed', 'hyperthyroidismanxietydifficulty concentratingfatiguefrequent bowel movementsgoiter ( visibly enlarged thyroid gland ) or thyroid noduleshair losshand tremorheat intoleranceincreased appetiteincreased sweatingirregular menstrual periods in womennail changes ( thickness or flaking ) nervousnesspounding or racing heart beat ( palpitations ) restlessnesssleep problemsweight loss ( or weight gain, in some', 'hypothyroidismtiredness. more sensitivity to cold. constipation. dry skin. weight gain. puffy face. hoarse voice. coarse hair and skin. muscle weakness. muscle aches, tenderness and stiffness. menstrual cycles that are heavier than usual or irregular. thinning hair. slowed heart rate, also called bradycardia. depression. memory problems. blood pressurethyroid panel - t3, t4, tshcholestrol', 'bone in the spine. loss of height over time. a stooped posture. a bone that breaks much more easily than expected. bone densitybalpbone panelpcoshormone test fasting cholesterol and triglyceride levels'], 'boolean': 0}, next=('ques_ans',), config={'configurable': {'thread_id': '541', 'thread_ts': '1ef481c2-f84e-6513-8001-f24311c0f3e4'}}, metadata={'source': 'loop', 'step': 1, 'writes': {'patient_description': {'questions': ['None', \"With your complaints of difficulty in breathing, can you please describe if you're also experiencing other symptoms such as chest pain, dizziness, irregular heartbeat, constipation, changes in weight or menstrual cycle, or any abnormal changes in your skin and hair?\"]}}}, created_at='2024-07-22T11:18:56.529742+00:00', parent_config={'configurable': {'thread_id': '541', 'thread_ts': '1ef481c2-d5c7-64e7-8000-732b4a286bdd'}})"
      ]
     },
     "execution_count": 34,
     "metadata": {},
     "output_type": "execute_result"
    }
   ],
   "source": [
    "current_values"
   ]
  },
  {
   "cell_type": "code",
   "execution_count": 35,
   "metadata": {},
   "outputs": [],
   "source": [
    "current_values.values['answers'].append('no')"
   ]
  },
  {
   "cell_type": "code",
   "execution_count": 36,
   "metadata": {},
   "outputs": [
    {
     "data": {
      "text/plain": [
       "('ques_ans',)"
      ]
     },
     "execution_count": 36,
     "metadata": {},
     "output_type": "execute_result"
    }
   ],
   "source": [
    "graph.get_state(thread).next"
   ]
  },
  {
   "cell_type": "code",
   "execution_count": 42,
   "metadata": {},
   "outputs": [
    {
     "name": "stdout",
     "output_type": "stream",
     "text": [
      "('ques_ans',)\n"
     ]
    }
   ],
   "source": [
    "print(str(graph.get_state(thread).next) )"
   ]
  },
  {
   "cell_type": "code",
   "execution_count": null,
   "metadata": {},
   "outputs": [],
   "source": []
  }
 ],
 "metadata": {
  "kernelspec": {
   "display_name": "myenv",
   "language": "python",
   "name": "python3"
  },
  "language_info": {
   "codemirror_mode": {
    "name": "ipython",
    "version": 3
   },
   "file_extension": ".py",
   "mimetype": "text/x-python",
   "name": "python",
   "nbconvert_exporter": "python",
   "pygments_lexer": "ipython3",
   "version": "3.9.1"
  }
 },
 "nbformat": 4,
 "nbformat_minor": 2
}
